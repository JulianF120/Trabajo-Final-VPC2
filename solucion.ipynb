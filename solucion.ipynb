{
  "cells": [
    {
      "cell_type": "markdown",
      "id": "c57af7a9",
      "metadata": {
        "id": "c57af7a9"
      },
      "source": [
        "# Vision por computadora 2\n",
        "\n",
        "Alumnos:\n",
        "\n",
        "- Julian Ferreira\n",
        "- Amilcar Rincon Charris\n",
        "- Paola Cartala"
      ]
    },
    {
      "cell_type": "markdown",
      "id": "961f3947",
      "metadata": {
        "id": "961f3947"
      },
      "source": [
        "Configuración e Importación de Librerías"
      ]
    },
    {
      "cell_type": "code",
      "execution_count": 24,
      "id": "1adfaebc",
      "metadata": {
        "id": "1adfaebc"
      },
      "outputs": [],
      "source": [
        "import os\n",
        "import shutil\n",
        "import random\n",
        "import yaml\n",
        "import math\n",
        "from collections import Counter\n",
        "\n",
        "import cv2\n",
        "import kagglehub\n",
        "import numpy as np\n",
        "import matplotlib.pyplot as plt\n",
        "import matplotlib.patches as patches\n",
        "import seaborn as sns\n",
        "\n",
        "import albumentations as A"
      ]
    },
    {
      "cell_type": "code",
      "execution_count": 25,
      "id": "b35b220f",
      "metadata": {
        "colab": {
          "base_uri": "https://localhost:8080/"
        },
        "id": "b35b220f",
        "outputId": "d6c0f9f6-6a22-402a-f179-45acf44584a7"
      },
      "outputs": [
        {
          "output_type": "stream",
          "name": "stdout",
          "text": [
            "El dataset ya se encuentra en la carpeta 'dataset'. Saltando descarga.\n"
          ]
        }
      ],
      "source": [
        "dataset_dir = 'dataset'\n",
        "\n",
        "if os.path.exists(os.path.join(dataset_dir, 'data.yaml')):\n",
        "    print(f\"El dataset ya se encuentra en la carpeta '{dataset_dir}'. Saltando descarga.\")\n",
        "    path = dataset_dir\n",
        "else:\n",
        "    print(f\"Dataset no encontrado en '{dataset_dir}'. Procediendo a la descarga...\")\n",
        "\n",
        "    download_path = kagglehub.dataset_download(\"orvile/x-ray-baggage-anomaly-detection\")\n",
        "    shutil.copytree(download_path, dataset_dir, dirs_exist_ok=True)\n",
        "    print(f\"Dataset descargado en: '{dataset_dir}'\")\n",
        "    path = dataset_dir"
      ]
    },
    {
      "cell_type": "code",
      "execution_count": 26,
      "id": "248f773d",
      "metadata": {
        "colab": {
          "base_uri": "https://localhost:8080/"
        },
        "id": "248f773d",
        "outputId": "b46d2947-c757-4607-f378-78517b31e67f"
      },
      "outputs": [
        {
          "output_type": "stream",
          "name": "stdout",
          "text": [
            "Clases del dataset: ['0', '1', '2', '3', '4']\n"
          ]
        }
      ],
      "source": [
        "base_dir = path\n",
        "train_images_dir = os.path.join(base_dir, 'train/images')\n",
        "train_labels_dir = os.path.join(base_dir, 'train/labels')\n",
        "valid_images_dir = os.path.join(base_dir, 'valid/images')\n",
        "valid_labels_dir = os.path.join(base_dir, 'valid/labels')\n",
        "\n",
        "with open(os.path.join(base_dir, 'data.yaml'), 'r') as file:\n",
        "    data_yaml = yaml.safe_load(file)\n",
        "    class_names = data_yaml['names']\n",
        "    print(\"Clases del dataset:\", class_names)"
      ]
    },
    {
      "cell_type": "markdown",
      "id": "f6da9457",
      "metadata": {
        "id": "f6da9457"
      },
      "source": [
        "## Primera entrega: EDA"
      ]
    },
    {
      "cell_type": "markdown",
      "id": "139a6bb1",
      "metadata": {
        "id": "139a6bb1"
      },
      "source": [
        "### 1. Visualización de Muestras del Dataset"
      ]
    },
    {
      "cell_type": "code",
      "execution_count": 27,
      "id": "d9d418ec",
      "metadata": {
        "id": "d9d418ec"
      },
      "outputs": [],
      "source": [
        "def visualize_image_with_bboxes(image_dir, label_dir, image_name, class_names):\n",
        "    \"\"\"\n",
        "    Muestra una imagen con sus bounding boxes.\n",
        "    \"\"\"\n",
        "    image_path = os.path.join(image_dir, image_name)\n",
        "    label_path = os.path.join(label_dir, image_name.replace('.jpg', '.txt'))\n",
        "\n",
        "    image = cv2.imread(image_path)\n",
        "    image = cv2.cvtColor(image, cv2.COLOR_BGR2RGB)\n",
        "    h, w, _ = image.shape\n",
        "\n",
        "    fig, ax = plt.subplots(1, figsize=(8, 8))\n",
        "    ax.imshow(image)\n",
        "    ax.set_title(f\"Visualización de: {image_name}\")\n",
        "\n",
        "    # bounding boxes\n",
        "    if os.path.exists(label_path):\n",
        "        with open(label_path, 'r') as f:\n",
        "            for line in f:\n",
        "                class_id, x_center, y_center, width_norm, height_norm = map(float, line.split())\n",
        "\n",
        "                # desnormalizar coordenadas\n",
        "                box_w = width_norm * w\n",
        "                box_h = height_norm * h\n",
        "                x_min = (x_center * w) - (box_w / 2)\n",
        "                y_min = (y_center * h) - (box_h / 2)\n",
        "\n",
        "                # rectangulo\n",
        "                rect = patches.Rectangle((x_min, y_min), box_w, box_h, linewidth=2, edgecolor='r', facecolor='none')\n",
        "                ax.add_patch(rect)\n",
        "\n",
        "                # etiqueta de clase\n",
        "                class_name = class_names[int(class_id)]\n",
        "                plt.text(x_min, y_min, class_name, color='white', fontsize=12, backgroundcolor='red')\n",
        "\n",
        "    plt.axis('off')\n",
        "    plt.show()"
      ]
    },
    {
      "cell_type": "code",
      "execution_count": 28,
      "id": "37898242",
      "metadata": {
        "colab": {
          "base_uri": "https://localhost:8080/",
          "height": 675
        },
        "id": "37898242",
        "outputId": "bcceda76-1f35-4b21-80aa-8c88c03e1013"
      },
      "outputs": [
        {
          "output_type": "display_data",
          "data": {
            "text/plain": [
              "<Figure size 800x800 with 1 Axes>"
            ],
            "image/png": "[encoded data removed]"
          },
          "metadata": {}
        }
      ],
      "source": [
        "image_files = [f for f in os.listdir(train_images_dir) if f.endswith('.jpg')]\n",
        "random_image = random.choice(image_files)\n",
        "visualize_image_with_bboxes(train_images_dir, train_labels_dir, random_image, class_names)"
      ]
    },
    {
      "cell_type": "code",
      "execution_count": 29,
      "id": "ca497272",
      "metadata": {
        "id": "ca497272"
      },
      "outputs": [],
      "source": [
        "sizes = {}\n",
        "for img in os.listdir(train_images_dir):\n",
        "    img_path = os.path.join(train_images_dir, img)\n",
        "    img = cv2.imread(img_path)\n",
        "    if img.shape in sizes:\n",
        "        sizes[img.shape] += 1\n",
        "    else:\n",
        "        sizes[img.shape] = 1\n",
        "for img in os.listdir(valid_images_dir):\n",
        "    img_path = os.path.join(valid_images_dir, img)\n",
        "    img = cv2.imread(img_path)\n",
        "    if img.shape in sizes:\n",
        "        sizes[img.shape] += 1\n",
        "    else:\n",
        "        sizes[img.shape] = 1"
      ]
    },
    {
      "cell_type": "code",
      "execution_count": 30,
      "id": "18719f9f",
      "metadata": {
        "colab": {
          "base_uri": "https://localhost:8080/"
        },
        "id": "18719f9f",
        "outputId": "2ae5ede2-0bf3-428c-f361-d41c0c07721f"
      },
      "outputs": [
        {
          "output_type": "stream",
          "name": "stdout",
          "text": [
            "Las imagenes presentes en el dataset presentan las siguientes dimenciones: {(416, 416, 3): 7947}\n"
          ]
        }
      ],
      "source": [
        "print(f\"Las imagenes presentes en el dataset presentan las siguientes dimenciones: {sizes}\")"
      ]
    },
    {
      "cell_type": "markdown",
      "id": "8f124e6c",
      "metadata": {
        "id": "8f124e6c"
      },
      "source": [
        "### 2. Análisis de Bounding Boxes"
      ]
    },
    {
      "cell_type": "code",
      "execution_count": 31,
      "id": "fd663d39",
      "metadata": {
        "id": "fd663d39"
      },
      "outputs": [],
      "source": [
        "def get_all_bboxes(label_dir):\n",
        "    \"\"\"\n",
        "    Recorre todos los archivos de etiquetas y extrae la información de las bounding boxes.\n",
        "    \"\"\"\n",
        "    bboxes = []\n",
        "    for label_file in os.listdir(label_dir):\n",
        "        if label_file.endswith('.txt'):\n",
        "            with open(os.path.join(label_dir, label_file), 'r') as f:\n",
        "                for line in f:\n",
        "                    parts = list(map(float, line.split()))\n",
        "                    bboxes.append(parts)\n",
        "    return np.array(bboxes)"
      ]
    },
    {
      "cell_type": "code",
      "execution_count": 32,
      "id": "f31af32b",
      "metadata": {
        "colab": {
          "base_uri": "https://localhost:8080/"
        },
        "id": "f31af32b",
        "outputId": "564e9c36-56c6-49fd-be42-99014474b159"
      },
      "outputs": [
        {
          "output_type": "stream",
          "name": "stdout",
          "text": [
            "Total de Bounding Boxes en el set de entrenamiento: 6181\n"
          ]
        }
      ],
      "source": [
        "all_train_bboxes = get_all_bboxes(train_labels_dir)\n",
        "print(f\"Total de Bounding Boxes en el set de entrenamiento: {len(all_train_bboxes)}\")\n",
        "\n",
        "classes = all_train_bboxes[:, 0].astype(int)\n",
        "centers_x = all_train_bboxes[:, 1]\n",
        "centers_y = all_train_bboxes[:, 2]\n",
        "widths = all_train_bboxes[:, 3]\n",
        "heights = all_train_bboxes[:, 4]"
      ]
    },
    {
      "cell_type": "markdown",
      "id": "4a33c95c",
      "metadata": {
        "id": "4a33c95c"
      },
      "source": [
        "#### 2.1. Distribución de Tamaños (Área)"
      ]
    },
    {
      "cell_type": "code",
      "execution_count": 33,
      "id": "889c4e64",
      "metadata": {
        "colab": {
          "base_uri": "https://localhost:8080/",
          "height": 569
        },
        "id": "889c4e64",
        "outputId": "f10e87e9-ac58-47fd-a615-0b404732beb6"
      },
      "outputs": [
        {
          "output_type": "display_data",
          "data": {
            "text/plain": [
              "<Figure size 1000x600 with 1 Axes>"
            ],
            "image/png": "[encoded data removed]"
          },
          "metadata": {}
        }
      ],
      "source": [
        "areas = widths * heights\n",
        "plt.figure(figsize=(10, 6))\n",
        "sns.histplot(areas, bins=50, kde=True)\n",
        "plt.title('Distribución del Área de las Bounding Boxes')\n",
        "plt.xlabel('Área Normalizada (width * height)')\n",
        "plt.ylabel('Frecuencia')\n",
        "plt.show()"
      ]
    },
    {
      "cell_type": "markdown",
      "id": "d2d8d270",
      "metadata": {
        "id": "d2d8d270"
      },
      "source": [
        "Lo primero que salta a la vista es que casi todos los objetos que tenemos que encontrar son bastante chicos. Si vemos el gráfico, la mayoría de las cajitas tienen un área bastante pequeña, menos de 0.2. Hay algunos objetos grandes, pero son pocos."
      ]
    },
    {
      "cell_type": "markdown",
      "id": "1ce44439",
      "metadata": {
        "id": "1ce44439"
      },
      "source": [
        "#### 2.2. Distribución de Aspect Ratios"
      ]
    },
    {
      "cell_type": "code",
      "execution_count": 34,
      "id": "d48d6463",
      "metadata": {
        "colab": {
          "base_uri": "https://localhost:8080/",
          "height": 565
        },
        "id": "d48d6463",
        "outputId": "71cf71cc-0a07-48ee-c42e-736240935071"
      },
      "outputs": [
        {
          "output_type": "display_data",
          "data": {
            "text/plain": [
              "<Figure size 1000x600 with 1 Axes>"
            ],
            "image/png": "[encoded data removed]"
          },
          "metadata": {}
        }
      ],
      "source": [
        "aspect_ratios = widths / heights\n",
        "plt.figure(figsize=(10, 6))\n",
        "sns.histplot(aspect_ratios, bins=50, kde=True)\n",
        "plt.title('Distribución del Aspect Ratio de las Bounding Boxes')\n",
        "plt.xlabel('Aspect Ratio (width / height)')\n",
        "plt.ylabel('Frecuencia')\n",
        "plt.show()"
      ]
    },
    {
      "cell_type": "markdown",
      "id": "58160a9f",
      "metadata": {
        "id": "58160a9f"
      },
      "source": [
        "Acá se ve que los objetos no tienen una única forma. Hay un montón que son más o menos cuadrados (el pico en 1.0), pero también hay bastantes que son más altos que anchos, o más anchos que bajos."
      ]
    },
    {
      "cell_type": "markdown",
      "id": "764b5ced",
      "metadata": {
        "id": "764b5ced"
      },
      "source": [
        "#### 2.3. Mapa de Calor de Ubicaciones"
      ]
    },
    {
      "cell_type": "code",
      "execution_count": 35,
      "id": "03845f73",
      "metadata": {
        "colab": {
          "base_uri": "https://localhost:8080/",
          "height": 719
        },
        "id": "03845f73",
        "outputId": "48110cb5-8eb7-4190-983d-154b4491d043"
      },
      "outputs": [
        {
          "output_type": "display_data",
          "data": {
            "text/plain": [
              "<Figure size 800x800 with 2 Axes>"
            ],
            "image/png": "[encoded data removed]"
          },
          "metadata": {}
        }
      ],
      "source": [
        "plt.figure(figsize=(8, 8))\n",
        "plt.hist2d(centers_x, centers_y, bins=50, cmap='inferno')\n",
        "plt.colorbar(label='Número de Bounding Boxes')\n",
        "plt.title('Mapa de Calor de la Ubicación del Centro de las Bounding Boxes')\n",
        "plt.xlabel('Coordenada X Normalizada del Centro')\n",
        "plt.ylabel('Coordenada Y Normalizada del Centro')\n",
        "plt.gca().invert_yaxis()"
      ]
    },
    {
      "cell_type": "markdown",
      "id": "3f1d9a24",
      "metadata": {
        "id": "3f1d9a24"
      },
      "source": [
        "Este gráfico es el más claro de todos. Casi todos los objetos aparecen en el centro de la imagen. A medida que te vas a los bordes, no hay casi nada. Tiene lógica, porque las cosas pasan por el medio del escáner."
      ]
    },
    {
      "cell_type": "markdown",
      "id": "7ea942a1",
      "metadata": {
        "id": "7ea942a1"
      },
      "source": [
        "### 3. Data Augmentation para Balanceo de Clases"
      ]
    },
    {
      "cell_type": "code",
      "execution_count": 36,
      "id": "690919ec",
      "metadata": {
        "id": "690919ec"
      },
      "outputs": [],
      "source": [
        "def plot_class_distribution(label_dirs, title, class_names_map):\n",
        "    \"\"\"\n",
        "    Calcula y grafica la distribución de clases a partir de directorios de etiquetas.\n",
        "    \"\"\"\n",
        "    all_classes = []\n",
        "    if not isinstance(label_dirs, list):\n",
        "        label_dirs = [label_dirs]\n",
        "\n",
        "    for label_dir in label_dirs:\n",
        "        if not os.path.isdir(label_dir):\n",
        "            print(f\"Advertencia: El directorio {label_dir} no existe. Será omitido.\")\n",
        "            continue\n",
        "        for label_file in os.listdir(label_dir):\n",
        "            if label_file.endswith('.txt'):\n",
        "                with open(os.path.join(label_dir, label_file), 'r') as f:\n",
        "                    for line in f:\n",
        "                        class_id = int(float(line.split()[0]))\n",
        "                        all_classes.append(class_id)\n",
        "\n",
        "    # ocurrencias de cada clase\n",
        "    class_counts = Counter(all_classes)\n",
        "\n",
        "    class_indices = sorted(class_counts.keys())\n",
        "    counts = [class_counts[i] for i in class_indices]\n",
        "    class_labels = [class_names_map[i] for i in class_indices]\n",
        "\n",
        "    plt.figure(figsize=(12, 7))\n",
        "    sns.barplot(x=class_labels, y=counts, hue=class_labels, palette='viridis', legend=False)\n",
        "    plt.title(title, fontsize=16)\n",
        "    plt.xlabel('Clase', fontsize=12)\n",
        "    plt.ylabel('Número de Instancias', fontsize=12)\n",
        "    plt.xticks(rotation=45)\n",
        "\n",
        "    for index, value in enumerate(counts):\n",
        "        plt.text(index, value + 0.5, str(value), ha='center')\n",
        "\n",
        "    plt.tight_layout()\n",
        "    plt.show()"
      ]
    },
    {
      "cell_type": "code",
      "execution_count": 37,
      "id": "d62cd0ba",
      "metadata": {
        "colab": {
          "base_uri": "https://localhost:8080/",
          "height": 707
        },
        "id": "d62cd0ba",
        "outputId": "d4936d44-38e9-43b9-a8d1-b51f521f190c"
      },
      "outputs": [
        {
          "output_type": "display_data",
          "data": {
            "text/plain": [
              "<Figure size 1200x700 with 1 Axes>"
            ],
            "image/png": "[encoded data removed]"
          },
          "metadata": {}
        }
      ],
      "source": [
        "plot_class_distribution([train_labels_dir], 'Distribución de Clases (antes del Balanceo)', class_names)"
      ]
    },
    {
      "cell_type": "markdown",
      "id": "cd389293",
      "metadata": {
        "id": "cd389293"
      },
      "source": [
        "#### 3.1 Calcular la distribución inicial y definir el objetivo"
      ]
    },
    {
      "cell_type": "code",
      "execution_count": 38,
      "id": "483a59f2",
      "metadata": {
        "colab": {
          "base_uri": "https://localhost:8080/"
        },
        "id": "483a59f2",
        "outputId": "0fc4feda-b604-4c55-8346-bcc42a1d07cd"
      },
      "outputs": [
        {
          "output_type": "stream",
          "name": "stdout",
          "text": [
            "Distribución inicial: [(0, 1284), (1, 1393), (2, 698), (3, 1379), (4, 1427)]\n",
            "Instancias iniciales de la clase '2': 698\n",
            "Objetivo de instancias (promedio de las otras clases): 1370\n"
          ]
        }
      ],
      "source": [
        "initial_class_counts = Counter()\n",
        "for label_file in os.listdir(train_labels_dir):\n",
        "    if label_file.endswith('.txt'):\n",
        "        with open(os.path.join(train_labels_dir, label_file), 'r') as f:\n",
        "            for line in f:\n",
        "                if line.strip():\n",
        "                    class_id = int(float(line.split()[0]))\n",
        "                    initial_class_counts[class_id] += 1\n",
        "\n",
        "other_class_counts = [count for class_id, count in initial_class_counts.items() if class_id != 2]\n",
        "target_count = int(np.mean(other_class_counts)) if other_class_counts else 0\n",
        "\n",
        "initial_count_class_2 = initial_class_counts.get(2, 0)\n",
        "\n",
        "print(f\"Distribución inicial: {sorted(initial_class_counts.items())}\")\n",
        "print(f\"Instancias iniciales de la clase '2': {initial_count_class_2}\")\n",
        "print(f\"Objetivo de instancias (promedio de las otras clases): {target_count}\")"
      ]
    },
    {
      "cell_type": "code",
      "execution_count": 39,
      "id": "bb132074",
      "metadata": {
        "colab": {
          "base_uri": "https://localhost:8080/"
        },
        "id": "bb132074",
        "outputId": "73da7450-0d59-4b14-f3e7-cfb2fdc345ba"
      },
      "outputs": [
        {
          "output_type": "stream",
          "name": "stdout",
          "text": [
            "\n",
            "Directorios de aumentación limpios en: dataset/train/augmented_images\n"
          ]
        }
      ],
      "source": [
        "aug_images_dir = os.path.join(os.path.dirname(train_images_dir), 'augmented_images')\n",
        "aug_labels_dir = os.path.join(os.path.dirname(train_labels_dir), 'augmented_labels')\n",
        "\n",
        "if os.path.exists(aug_images_dir):\n",
        "    shutil.rmtree(aug_images_dir)\n",
        "if os.path.exists(aug_labels_dir):\n",
        "    shutil.rmtree(aug_labels_dir)\n",
        "os.makedirs(aug_images_dir, exist_ok=True)\n",
        "os.makedirs(aug_labels_dir, exist_ok=True)\n",
        "\n",
        "print(f\"\\nDirectorios de aumentación limpios en: {aug_images_dir}\")"
      ]
    },
    {
      "cell_type": "code",
      "execution_count": 40,
      "id": "5dfdf1e3",
      "metadata": {
        "colab": {
          "base_uri": "https://localhost:8080/"
        },
        "id": "5dfdf1e3",
        "outputId": "804ffd57-fc8b-4c91-e2d3-77109326e316"
      },
      "outputs": [
        {
          "output_type": "stream",
          "name": "stdout",
          "text": [
            "Se encontraron 698 imágenes con la clase '2'.\n"
          ]
        }
      ],
      "source": [
        "class_2_images = []\n",
        "for label_file in os.listdir(train_labels_dir):\n",
        "    if label_file.endswith('.txt'):\n",
        "        with open(os.path.join(train_labels_dir, label_file), 'r') as f:\n",
        "            for line in f:\n",
        "                if line.strip() and line.startswith('2 '):\n",
        "                    class_2_images.append(label_file.replace('.txt', '.jpg'))\n",
        "                    break\n",
        "\n",
        "print(f\"Se encontraron {len(class_2_images)} imágenes con la clase '2'.\")"
      ]
    },
    {
      "cell_type": "code",
      "execution_count": 41,
      "id": "58ad4da4",
      "metadata": {
        "colab": {
          "base_uri": "https://localhost:8080/"
        },
        "id": "58ad4da4",
        "outputId": "4a21c7c6-fe3e-442f-f5b4-fa08b8840cff"
      },
      "outputs": [
        {
          "output_type": "stream",
          "name": "stdout",
          "text": [
            "Se generarán 1 aumentos por cada imagen de la clase '2'.\n"
          ]
        }
      ],
      "source": [
        "if initial_count_class_2 > 0 and initial_count_class_2 < target_count:\n",
        "    num_augmentations = math.ceil((target_count / initial_count_class_2) - 1)\n",
        "    num_augmentations = max(1, num_augmentations)\n",
        "else:\n",
        "    num_augmentations = 0\n",
        "\n",
        "print(f\"Se generarán {num_augmentations} aumentos por cada imagen de la clase '2'.\")"
      ]
    },
    {
      "cell_type": "markdown",
      "id": "abdfbcaa",
      "metadata": {
        "id": "abdfbcaa"
      },
      "source": [
        "#### 3.2. Definir la pipeline de aumentación"
      ]
    },
    {
      "cell_type": "code",
      "execution_count": 42,
      "id": "d79a94a2",
      "metadata": {
        "id": "d79a94a2"
      },
      "outputs": [],
      "source": [
        "transform = A.Compose([\n",
        "    A.HorizontalFlip(p=0.5),\n",
        "    A.RandomBrightnessContrast(p=0.3),\n",
        "    A.Rotate(limit=25, p=0.6, border_mode=cv2.BORDER_CONSTANT),\n",
        "    A.Blur(blur_limit=3, p=0.2),\n",
        "    A.GaussNoise(p=0.2)\n",
        "], bbox_params=A.BboxParams(format='yolo', label_fields=['class_labels']))"
      ]
    },
    {
      "cell_type": "markdown",
      "id": "64284007",
      "metadata": {
        "id": "64284007"
      },
      "source": [
        "#### 3.3. Función para generar y guardar imágenes aumentadas"
      ]
    },
    {
      "cell_type": "code",
      "execution_count": 43,
      "id": "83e550ca",
      "metadata": {
        "id": "83e550ca"
      },
      "outputs": [],
      "source": [
        "def augment_and_save(image_path, label_path, output_img_dir, output_lbl_dir, transform, num_augmentations):\n",
        "    \"\"\"\n",
        "    Aplica transformaciones a una imagen y su etiqueta, y guarda los resultados.\n",
        "    \"\"\"\n",
        "    image = cv2.imread(image_path)\n",
        "    image = cv2.cvtColor(image, cv2.COLOR_BGR2RGB)\n",
        "\n",
        "    bboxes = []\n",
        "    class_labels = []\n",
        "    with open(label_path, 'r') as f:\n",
        "        for line in f:\n",
        "            class_id, x, y, w, h = map(float, line.split())\n",
        "            bboxes.append([x, y, w, h])\n",
        "            class_labels.append(int(class_id))\n",
        "\n",
        "    for i in range(num_augmentations):\n",
        "        augmented = transform(image=image, bboxes=bboxes, class_labels=class_labels)\n",
        "        aug_image = augmented['image']\n",
        "        aug_bboxes = augmented['bboxes']\n",
        "\n",
        "        base_name = os.path.splitext(os.path.basename(image_path))[0]\n",
        "        new_img_name = f\"{base_name}_aug_{i}.jpg\"\n",
        "        new_lbl_name = f\"{base_name}_aug_{i}.txt\"\n",
        "\n",
        "        aug_image_bgr = cv2.cvtColor(aug_image, cv2.COLOR_RGB2BGR)\n",
        "        cv2.imwrite(os.path.join(output_img_dir, new_img_name), aug_image_bgr)\n",
        "\n",
        "        with open(os.path.join(output_lbl_dir, new_lbl_name), 'w') as f:\n",
        "            for bbox, class_id in zip(aug_bboxes, augmented['class_labels']):\n",
        "                x, y, w, h = bbox\n",
        "                f.write(f\"{class_id} {x} {y} {w} {h}\\n\")"
      ]
    },
    {
      "cell_type": "markdown",
      "id": "e35dac36",
      "metadata": {
        "id": "e35dac36"
      },
      "source": [
        "#### 3.4. Aplicar aumentación"
      ]
    },
    {
      "cell_type": "code",
      "execution_count": 44,
      "id": "86bc2a06",
      "metadata": {
        "colab": {
          "base_uri": "https://localhost:8080/"
        },
        "id": "86bc2a06",
        "outputId": "48f2dee7-aeec-4f4e-b5d1-134ebc220fb5"
      },
      "outputs": [
        {
          "output_type": "stream",
          "name": "stdout",
          "text": [
            "\n",
            "¡Proceso de aumentación de datos para la clase '2' completado!\n"
          ]
        }
      ],
      "source": [
        "if num_augmentations > 0:\n",
        "    for image_name in class_2_images:\n",
        "        img_path = os.path.join(train_images_dir, image_name)\n",
        "        lbl_path = os.path.join(train_labels_dir, image_name.replace('.jpg', '.txt'))\n",
        "\n",
        "        if os.path.exists(img_path):\n",
        "            augment_and_save(img_path, lbl_path, aug_images_dir, aug_labels_dir, transform, num_augmentations)\n",
        "\n",
        "    print(\"\\n¡Proceso de aumentación de datos para la clase '2' completado!\")\n",
        "else:\n",
        "    print(\"\\nNo fue necesario realizar aumentación de datos para la clase '2'.\")"
      ]
    },
    {
      "cell_type": "code",
      "execution_count": 45,
      "id": "5755c591",
      "metadata": {
        "colab": {
          "base_uri": "https://localhost:8080/",
          "height": 707
        },
        "id": "5755c591",
        "outputId": "9d588f8a-0ed7-4ce4-b048-02defaf5ccef"
      },
      "outputs": [
        {
          "output_type": "display_data",
          "data": {
            "text/plain": [
              "<Figure size 1200x700 with 1 Axes>"
            ],
            "image/png": "[encoded data removed]"
          },
          "metadata": {}
        }
      ],
      "source": [
        "plot_class_distribution([train_labels_dir, aug_labels_dir], 'Distribución de Clases (después del Balanceo)', class_names)"
      ]
    },
    {
      "cell_type": "markdown",
      "id": "cab63e7c",
      "metadata": {
        "id": "cab63e7c"
      },
      "source": [
        "## Segunda entrega: baseline y conclusiones preliminares"
      ]
    },
    {
      "cell_type": "markdown",
      "id": "a2b9eb7f",
      "metadata": {
        "id": "a2b9eb7f"
      },
      "source": [
        "### 1.1 Implementacion Faster R-CNN"
      ]
    },
    {
      "cell_type": "code",
      "execution_count": 47,
      "id": "5a4e959d",
      "metadata": {
        "colab": {
          "base_uri": "https://localhost:8080/"
        },
        "id": "5a4e959d",
        "outputId": "1ed0285f-88f2-4ff5-daab-0c4f79de44de"
      },
      "outputs": [
        {
          "output_type": "stream",
          "name": "stdout",
          "text": [
            "Collecting torchmetrics\n",
            "  Downloading torchmetrics-1.8.2-py3-none-any.whl.metadata (22 kB)\n",
            "Requirement already satisfied: numpy>1.20.0 in /usr/local/lib/python3.12/dist-packages (from torchmetrics) (2.0.2)\n",
            "Requirement already satisfied: packaging>17.1 in /usr/local/lib/python3.12/dist-packages (from torchmetrics) (25.0)\n",
            "Requirement already satisfied: torch>=2.0.0 in /usr/local/lib/python3.12/dist-packages (from torchmetrics) (2.8.0+cu126)\n",
            "Collecting lightning-utilities>=0.8.0 (from torchmetrics)\n",
            "  Downloading lightning_utilities-0.15.2-py3-none-any.whl.metadata (5.7 kB)\n",
            "Requirement already satisfied: setuptools in /usr/local/lib/python3.12/dist-packages (from lightning-utilities>=0.8.0->torchmetrics) (75.2.0)\n",
            "Requirement already satisfied: typing_extensions in /usr/local/lib/python3.12/dist-packages (from lightning-utilities>=0.8.0->torchmetrics) (4.15.0)\n",
            "Requirement already satisfied: filelock in /usr/local/lib/python3.12/dist-packages (from torch>=2.0.0->torchmetrics) (3.19.1)\n",
            "Requirement already satisfied: sympy>=1.13.3 in /usr/local/lib/python3.12/dist-packages (from torch>=2.0.0->torchmetrics) (1.13.3)\n",
            "Requirement already satisfied: networkx in /usr/local/lib/python3.12/dist-packages (from torch>=2.0.0->torchmetrics) (3.5)\n",
            "Requirement already satisfied: jinja2 in /usr/local/lib/python3.12/dist-packages (from torch>=2.0.0->torchmetrics) (3.1.6)\n",
            "Requirement already satisfied: fsspec in /usr/local/lib/python3.12/dist-packages (from torch>=2.0.0->torchmetrics) (2025.3.0)\n",
            "Requirement already satisfied: nvidia-cuda-nvrtc-cu12==12.6.77 in /usr/local/lib/python3.12/dist-packages (from torch>=2.0.0->torchmetrics) (12.6.77)\n",
            "Requirement already satisfied: nvidia-cuda-runtime-cu12==12.6.77 in /usr/local/lib/python3.12/dist-packages (from torch>=2.0.0->torchmetrics) (12.6.77)\n",
            "Requirement already satisfied: nvidia-cuda-cupti-cu12==12.6.80 in /usr/local/lib/python3.12/dist-packages (from torch>=2.0.0->torchmetrics) (12.6.80)\n",
            "Requirement already satisfied: nvidia-cudnn-cu12==9.10.2.21 in /usr/local/lib/python3.12/dist-packages (from torch>=2.0.0->torchmetrics) (9.10.2.21)\n",
            "Requirement already satisfied: nvidia-cublas-cu12==12.6.4.1 in /usr/local/lib/python3.12/dist-packages (from torch>=2.0.0->torchmetrics) (12.6.4.1)\n",
            "Requirement already satisfied: nvidia-cufft-cu12==11.3.0.4 in /usr/local/lib/python3.12/dist-packages (from torch>=2.0.0->torchmetrics) (11.3.0.4)\n",
            "Requirement already satisfied: nvidia-curand-cu12==10.3.7.77 in /usr/local/lib/python3.12/dist-packages (from torch>=2.0.0->torchmetrics) (10.3.7.77)\n",
            "Requirement already satisfied: nvidia-cusolver-cu12==11.7.1.2 in /usr/local/lib/python3.12/dist-packages (from torch>=2.0.0->torchmetrics) (11.7.1.2)\n",
            "Requirement already satisfied: nvidia-cusparse-cu12==12.5.4.2 in /usr/local/lib/python3.12/dist-packages (from torch>=2.0.0->torchmetrics) (12.5.4.2)\n",
            "Requirement already satisfied: nvidia-cusparselt-cu12==0.7.1 in /usr/local/lib/python3.12/dist-packages (from torch>=2.0.0->torchmetrics) (0.7.1)\n",
            "Requirement already satisfied: nvidia-nccl-cu12==2.27.3 in /usr/local/lib/python3.12/dist-packages (from torch>=2.0.0->torchmetrics) (2.27.3)\n",
            "Requirement already satisfied: nvidia-nvtx-cu12==12.6.77 in /usr/local/lib/python3.12/dist-packages (from torch>=2.0.0->torchmetrics) (12.6.77)\n",
            "Requirement already satisfied: nvidia-nvjitlink-cu12==12.6.85 in /usr/local/lib/python3.12/dist-packages (from torch>=2.0.0->torchmetrics) (12.6.85)\n",
            "Requirement already satisfied: nvidia-cufile-cu12==1.11.1.6 in /usr/local/lib/python3.12/dist-packages (from torch>=2.0.0->torchmetrics) (1.11.1.6)\n",
            "Requirement already satisfied: triton==3.4.0 in /usr/local/lib/python3.12/dist-packages (from torch>=2.0.0->torchmetrics) (3.4.0)\n",
            "Requirement already satisfied: mpmath<1.4,>=1.1.0 in /usr/local/lib/python3.12/dist-packages (from sympy>=1.13.3->torch>=2.0.0->torchmetrics) (1.3.0)\n",
            "Requirement already satisfied: MarkupSafe>=2.0 in /usr/local/lib/python3.12/dist-packages (from jinja2->torch>=2.0.0->torchmetrics) (3.0.3)\n",
            "Downloading torchmetrics-1.8.2-py3-none-any.whl (983 kB)\n",
            "\u001b[2K   \u001b[90m━━━━━━━━━━━━━━━━━━━━━━━━━━━━━━━━━━━━━━━━\u001b[0m \u001b[32m983.2/983.2 kB\u001b[0m \u001b[31m23.4 MB/s\u001b[0m eta \u001b[36m0:00:00\u001b[0m\n",
            "\u001b[?25hDownloading lightning_utilities-0.15.2-py3-none-any.whl (29 kB)\n",
            "Installing collected packages: lightning-utilities, torchmetrics\n",
            "Successfully installed lightning-utilities-0.15.2 torchmetrics-1.8.2\n"
          ]
        }
      ],
      "source": [
        "import torch\n",
        "from torch.utils.data import DataLoader\n",
        "import torchvision\n",
        "from torchvision.models.detection import fasterrcnn_resnet50_fpn\n",
        "from torchvision.datasets import ImageFolder\n",
        "from torchvision import transforms\n",
        "import torchvision.transforms as T\n",
        "from torchvision.models.detection.faster_rcnn import FastRCNNPredictor\n",
        "from PIL import Image\n",
        "!pip install torchmetrics\n",
        "from torchmetrics.detection.mean_ap import MeanAveragePrecision\n",
        "torch.cuda.empty_cache()\n",
        "from albumentations.pytorch import ToTensorV2\n"
      ]
    },
    {
      "cell_type": "code",
      "execution_count": 48,
      "id": "f1ece957",
      "metadata": {
        "colab": {
          "base_uri": "https://localhost:8080/"
        },
        "id": "f1ece957",
        "outputId": "f258a911-e47a-4b26-95f9-39bc6eb8bec7"
      },
      "outputs": [
        {
          "output_type": "stream",
          "name": "stderr",
          "text": [
            "/usr/local/lib/python3.12/dist-packages/torchvision/models/_utils.py:208: UserWarning: The parameter 'pretrained' is deprecated since 0.13 and may be removed in the future, please use 'weights' instead.\n",
            "  warnings.warn(\n",
            "/usr/local/lib/python3.12/dist-packages/torchvision/models/_utils.py:223: UserWarning: Arguments other than a weight enum or `None` for 'weights' are deprecated since 0.13 and may be removed in the future. The current behavior is equivalent to passing `weights=FasterRCNN_ResNet50_FPN_Weights.COCO_V1`. You can also use `weights=FasterRCNN_ResNet50_FPN_Weights.DEFAULT` to get the most up-to-date weights.\n",
            "  warnings.warn(msg)\n"
          ]
        },
        {
          "output_type": "stream",
          "name": "stdout",
          "text": [
            "Downloading: \"https://download.pytorch.org/models/fasterrcnn_resnet50_fpn_coco-258fb6c6.pth\" to /root/.cache/torch/hub/checkpoints/fasterrcnn_resnet50_fpn_coco-258fb6c6.pth\n"
          ]
        },
        {
          "output_type": "stream",
          "name": "stderr",
          "text": [
            "100%|██████████| 160M/160M [00:01<00:00, 138MB/s]\n"
          ]
        }
      ],
      "source": [
        "model = fasterrcnn_resnet50_fpn(pretrained=True)\n",
        "\n",
        "num_classes = 5 + 1\n",
        "\n",
        "in_features = model.roi_heads.box_predictor.cls_score.in_features\n",
        "\n",
        "model.roi_heads.box_predictor = FastRCNNPredictor(in_features, num_classes)\n"
      ]
    },
    {
      "cell_type": "code",
      "execution_count": 108,
      "id": "11cd9224",
      "metadata": {
        "id": "11cd9224"
      },
      "outputs": [],
      "source": [
        "import albumentations as A\n",
        "from albumentations.pytorch import ToTensorV2"
      ]
    },
    {
      "cell_type": "code",
      "execution_count": 109,
      "id": "6199764f",
      "metadata": {
        "id": "6199764f"
      },
      "outputs": [],
      "source": [
        "resize = int(416 * 0.6)\n",
        "\n",
        "transform = T.Compose([\n",
        "    T.ToTensor()\n",
        "])"
      ]
    },
    {
      "cell_type": "code",
      "execution_count": 110,
      "id": "0cc038e9",
      "metadata": {
        "id": "0cc038e9"
      },
      "outputs": [],
      "source": [
        "class XRayBaggageAnomalyDataset(torch.utils.data.Dataset):\n",
        "    def __init__(self, images_dir, labels_dir, transforms = None):\n",
        "        self.images_dir = images_dir\n",
        "        self.labels_dir = labels_dir\n",
        "        self.transforms = transforms\n",
        "        self.img_files = sorted(os.listdir(images_dir))\n",
        "        self.label_files = sorted(os.listdir(labels_dir))\n",
        "\n",
        "\n",
        "    def __getitem__(self, index):\n",
        "        img_path = os.path.join(self.images_dir, self.img_files[index])\n",
        "        img = Image.open(img_path).convert(\"RGB\")\n",
        "        w, h = img.size\n",
        "\n",
        "        label_path = os.path.join(self.labels_dir, self.label_files[index])\n",
        "\n",
        "        boxes = []\n",
        "        labels = []\n",
        "\n",
        "        with open(label_path, 'r') as f:\n",
        "            for line in f:\n",
        "\n",
        "                class_id, x_center, y_center, width_norm, height_norm = map(float, line.split())\n",
        "\n",
        "                box_w = width_norm * w\n",
        "                box_h = height_norm * h\n",
        "\n",
        "                x_min = (x_center * w) - (box_w / 2)\n",
        "                y_min = (y_center * h) - (box_h / 2)\n",
        "                x_max = x_min + box_w\n",
        "                y_max = y_min + box_h\n",
        "\n",
        "                boxes.append([x_min, y_min, x_max, y_max])\n",
        "                # El 0 está reservado para el fondo en el modelo\n",
        "                labels.append(int(class_id) + 1)\n",
        "\n",
        "        target = {}\n",
        "        target[\"boxes\"] = torch.tensor(boxes, dtype=torch.float32)\n",
        "        target[\"labels\"] = torch.tensor(labels, dtype=torch.int64)\n",
        "        target[\"image_id\"] = torch.tensor([index])\n",
        "\n",
        "\n",
        "        if self.transforms is not None:\n",
        "            img = self.transforms(img)\n",
        "        return img, target\n",
        "\n",
        "    def __len__(self):\n",
        "        return len(self.img_files)\n",
        "\n"
      ]
    },
    {
      "cell_type": "code",
      "execution_count": 111,
      "id": "0c023605",
      "metadata": {
        "id": "0c023605"
      },
      "outputs": [],
      "source": [
        "train_dataset = XRayBaggageAnomalyDataset(\n",
        "    images_dir = train_images_dir,\n",
        "    labels_dir = train_labels_dir,\n",
        "    transforms = transform\n",
        ")\n",
        "\n",
        "valid_dataset = XRayBaggageAnomalyDataset(\n",
        "    images_dir = valid_images_dir,\n",
        "    labels_dir = valid_labels_dir,\n",
        "    transforms = transform\n",
        ")"
      ]
    },
    {
      "cell_type": "code",
      "execution_count": 112,
      "id": "10f4e13a",
      "metadata": {
        "id": "10f4e13a"
      },
      "outputs": [],
      "source": [
        "batch_size = 8\n",
        "\n",
        "train_loader = DataLoader(train_dataset, batch_size = batch_size, shuffle=True,\n",
        "                                   collate_fn=lambda x: tuple(zip(*x)))\n",
        "valid_loader = DataLoader(valid_dataset, batch_size = batch_size, shuffle=False,\n",
        "                                    collate_fn=lambda x: tuple(zip(*x)))"
      ]
    },
    {
      "cell_type": "code",
      "execution_count": 113,
      "id": "40579507",
      "metadata": {
        "colab": {
          "base_uri": "https://localhost:8080/"
        },
        "id": "40579507",
        "outputId": "3ea4fd65-6225-44f4-f8f0-d7166596fd65"
      },
      "outputs": [
        {
          "output_type": "stream",
          "name": "stdout",
          "text": [
            "Ejecutandose en: cuda\n"
          ]
        }
      ],
      "source": [
        "device = torch.device('cuda') if torch.cuda.is_available() else torch.device('cpu')\n",
        "print(f\"Ejecutandose en: {device}\")"
      ]
    },
    {
      "cell_type": "code",
      "execution_count": 114,
      "id": "9ac4e953",
      "metadata": {
        "colab": {
          "base_uri": "https://localhost:8080/"
        },
        "id": "9ac4e953",
        "outputId": "c47611bc-63df-4166-b690-c75f997eb222"
      },
      "outputs": [
        {
          "output_type": "execute_result",
          "data": {
            "text/plain": [
              "FasterRCNN(\n",
              "  (transform): GeneralizedRCNNTransform(\n",
              "      Normalize(mean=[0.485, 0.456, 0.406], std=[0.229, 0.224, 0.225])\n",
              "      Resize(min_size=(800,), max_size=1333, mode='bilinear')\n",
              "  )\n",
              "  (backbone): BackboneWithFPN(\n",
              "    (body): IntermediateLayerGetter(\n",
              "      (conv1): Conv2d(3, 64, kernel_size=(7, 7), stride=(2, 2), padding=(3, 3), bias=False)\n",
              "      (bn1): FrozenBatchNorm2d(64, eps=0.0)\n",
              "      (relu): ReLU(inplace=True)\n",
              "      (maxpool): MaxPool2d(kernel_size=3, stride=2, padding=1, dilation=1, ceil_mode=False)\n",
              "      (layer1): Sequential(\n",
              "        (0): Bottleneck(\n",
              "          (conv1): Conv2d(64, 64, kernel_size=(1, 1), stride=(1, 1), bias=False)\n",
              "          (bn1): FrozenBatchNorm2d(64, eps=0.0)\n",
              "          (conv2): Conv2d(64, 64, kernel_size=(3, 3), stride=(1, 1), padding=(1, 1), bias=False)\n",
              "          (bn2): FrozenBatchNorm2d(64, eps=0.0)\n",
              "          (conv3): Conv2d(64, 256, kernel_size=(1, 1), stride=(1, 1), bias=False)\n",
              "          (bn3): FrozenBatchNorm2d(256, eps=0.0)\n",
              "          (relu): ReLU(inplace=True)\n",
              "          (downsample): Sequential(\n",
              "            (0): Conv2d(64, 256, kernel_size=(1, 1), stride=(1, 1), bias=False)\n",
              "            (1): FrozenBatchNorm2d(256, eps=0.0)\n",
              "          )\n",
              "        )\n",
              "        (1): Bottleneck(\n",
              "          (conv1): Conv2d(256, 64, kernel_size=(1, 1), stride=(1, 1), bias=False)\n",
              "          (bn1): FrozenBatchNorm2d(64, eps=0.0)\n",
              "          (conv2): Conv2d(64, 64, kernel_size=(3, 3), stride=(1, 1), padding=(1, 1), bias=False)\n",
              "          (bn2): FrozenBatchNorm2d(64, eps=0.0)\n",
              "          (conv3): Conv2d(64, 256, kernel_size=(1, 1), stride=(1, 1), bias=False)\n",
              "          (bn3): FrozenBatchNorm2d(256, eps=0.0)\n",
              "          (relu): ReLU(inplace=True)\n",
              "        )\n",
              "        (2): Bottleneck(\n",
              "          (conv1): Conv2d(256, 64, kernel_size=(1, 1), stride=(1, 1), bias=False)\n",
              "          (bn1): FrozenBatchNorm2d(64, eps=0.0)\n",
              "          (conv2): Conv2d(64, 64, kernel_size=(3, 3), stride=(1, 1), padding=(1, 1), bias=False)\n",
              "          (bn2): FrozenBatchNorm2d(64, eps=0.0)\n",
              "          (conv3): Conv2d(64, 256, kernel_size=(1, 1), stride=(1, 1), bias=False)\n",
              "          (bn3): FrozenBatchNorm2d(256, eps=0.0)\n",
              "          (relu): ReLU(inplace=True)\n",
              "        )\n",
              "      )\n",
              "      (layer2): Sequential(\n",
              "        (0): Bottleneck(\n",
              "          (conv1): Conv2d(256, 128, kernel_size=(1, 1), stride=(1, 1), bias=False)\n",
              "          (bn1): FrozenBatchNorm2d(128, eps=0.0)\n",
              "          (conv2): Conv2d(128, 128, kernel_size=(3, 3), stride=(2, 2), padding=(1, 1), bias=False)\n",
              "          (bn2): FrozenBatchNorm2d(128, eps=0.0)\n",
              "          (conv3): Conv2d(128, 512, kernel_size=(1, 1), stride=(1, 1), bias=False)\n",
              "          (bn3): FrozenBatchNorm2d(512, eps=0.0)\n",
              "          (relu): ReLU(inplace=True)\n",
              "          (downsample): Sequential(\n",
              "            (0): Conv2d(256, 512, kernel_size=(1, 1), stride=(2, 2), bias=False)\n",
              "            (1): FrozenBatchNorm2d(512, eps=0.0)\n",
              "          )\n",
              "        )\n",
              "        (1): Bottleneck(\n",
              "          (conv1): Conv2d(512, 128, kernel_size=(1, 1), stride=(1, 1), bias=False)\n",
              "          (bn1): FrozenBatchNorm2d(128, eps=0.0)\n",
              "          (conv2): Conv2d(128, 128, kernel_size=(3, 3), stride=(1, 1), padding=(1, 1), bias=False)\n",
              "          (bn2): FrozenBatchNorm2d(128, eps=0.0)\n",
              "          (conv3): Conv2d(128, 512, kernel_size=(1, 1), stride=(1, 1), bias=False)\n",
              "          (bn3): FrozenBatchNorm2d(512, eps=0.0)\n",
              "          (relu): ReLU(inplace=True)\n",
              "        )\n",
              "        (2): Bottleneck(\n",
              "          (conv1): Conv2d(512, 128, kernel_size=(1, 1), stride=(1, 1), bias=False)\n",
              "          (bn1): FrozenBatchNorm2d(128, eps=0.0)\n",
              "          (conv2): Conv2d(128, 128, kernel_size=(3, 3), stride=(1, 1), padding=(1, 1), bias=False)\n",
              "          (bn2): FrozenBatchNorm2d(128, eps=0.0)\n",
              "          (conv3): Conv2d(128, 512, kernel_size=(1, 1), stride=(1, 1), bias=False)\n",
              "          (bn3): FrozenBatchNorm2d(512, eps=0.0)\n",
              "          (relu): ReLU(inplace=True)\n",
              "        )\n",
              "        (3): Bottleneck(\n",
              "          (conv1): Conv2d(512, 128, kernel_size=(1, 1), stride=(1, 1), bias=False)\n",
              "          (bn1): FrozenBatchNorm2d(128, eps=0.0)\n",
              "          (conv2): Conv2d(128, 128, kernel_size=(3, 3), stride=(1, 1), padding=(1, 1), bias=False)\n",
              "          (bn2): FrozenBatchNorm2d(128, eps=0.0)\n",
              "          (conv3): Conv2d(128, 512, kernel_size=(1, 1), stride=(1, 1), bias=False)\n",
              "          (bn3): FrozenBatchNorm2d(512, eps=0.0)\n",
              "          (relu): ReLU(inplace=True)\n",
              "        )\n",
              "      )\n",
              "      (layer3): Sequential(\n",
              "        (0): Bottleneck(\n",
              "          (conv1): Conv2d(512, 256, kernel_size=(1, 1), stride=(1, 1), bias=False)\n",
              "          (bn1): FrozenBatchNorm2d(256, eps=0.0)\n",
              "          (conv2): Conv2d(256, 256, kernel_size=(3, 3), stride=(2, 2), padding=(1, 1), bias=False)\n",
              "          (bn2): FrozenBatchNorm2d(256, eps=0.0)\n",
              "          (conv3): Conv2d(256, 1024, kernel_size=(1, 1), stride=(1, 1), bias=False)\n",
              "          (bn3): FrozenBatchNorm2d(1024, eps=0.0)\n",
              "          (relu): ReLU(inplace=True)\n",
              "          (downsample): Sequential(\n",
              "            (0): Conv2d(512, 1024, kernel_size=(1, 1), stride=(2, 2), bias=False)\n",
              "            (1): FrozenBatchNorm2d(1024, eps=0.0)\n",
              "          )\n",
              "        )\n",
              "        (1): Bottleneck(\n",
              "          (conv1): Conv2d(1024, 256, kernel_size=(1, 1), stride=(1, 1), bias=False)\n",
              "          (bn1): FrozenBatchNorm2d(256, eps=0.0)\n",
              "          (conv2): Conv2d(256, 256, kernel_size=(3, 3), stride=(1, 1), padding=(1, 1), bias=False)\n",
              "          (bn2): FrozenBatchNorm2d(256, eps=0.0)\n",
              "          (conv3): Conv2d(256, 1024, kernel_size=(1, 1), stride=(1, 1), bias=False)\n",
              "          (bn3): FrozenBatchNorm2d(1024, eps=0.0)\n",
              "          (relu): ReLU(inplace=True)\n",
              "        )\n",
              "        (2): Bottleneck(\n",
              "          (conv1): Conv2d(1024, 256, kernel_size=(1, 1), stride=(1, 1), bias=False)\n",
              "          (bn1): FrozenBatchNorm2d(256, eps=0.0)\n",
              "          (conv2): Conv2d(256, 256, kernel_size=(3, 3), stride=(1, 1), padding=(1, 1), bias=False)\n",
              "          (bn2): FrozenBatchNorm2d(256, eps=0.0)\n",
              "          (conv3): Conv2d(256, 1024, kernel_size=(1, 1), stride=(1, 1), bias=False)\n",
              "          (bn3): FrozenBatchNorm2d(1024, eps=0.0)\n",
              "          (relu): ReLU(inplace=True)\n",
              "        )\n",
              "        (3): Bottleneck(\n",
              "          (conv1): Conv2d(1024, 256, kernel_size=(1, 1), stride=(1, 1), bias=False)\n",
              "          (bn1): FrozenBatchNorm2d(256, eps=0.0)\n",
              "          (conv2): Conv2d(256, 256, kernel_size=(3, 3), stride=(1, 1), padding=(1, 1), bias=False)\n",
              "          (bn2): FrozenBatchNorm2d(256, eps=0.0)\n",
              "          (conv3): Conv2d(256, 1024, kernel_size=(1, 1), stride=(1, 1), bias=False)\n",
              "          (bn3): FrozenBatchNorm2d(1024, eps=0.0)\n",
              "          (relu): ReLU(inplace=True)\n",
              "        )\n",
              "        (4): Bottleneck(\n",
              "          (conv1): Conv2d(1024, 256, kernel_size=(1, 1), stride=(1, 1), bias=False)\n",
              "          (bn1): FrozenBatchNorm2d(256, eps=0.0)\n",
              "          (conv2): Conv2d(256, 256, kernel_size=(3, 3), stride=(1, 1), padding=(1, 1), bias=False)\n",
              "          (bn2): FrozenBatchNorm2d(256, eps=0.0)\n",
              "          (conv3): Conv2d(256, 1024, kernel_size=(1, 1), stride=(1, 1), bias=False)\n",
              "          (bn3): FrozenBatchNorm2d(1024, eps=0.0)\n",
              "          (relu): ReLU(inplace=True)\n",
              "        )\n",
              "        (5): Bottleneck(\n",
              "          (conv1): Conv2d(1024, 256, kernel_size=(1, 1), stride=(1, 1), bias=False)\n",
              "          (bn1): FrozenBatchNorm2d(256, eps=0.0)\n",
              "          (conv2): Conv2d(256, 256, kernel_size=(3, 3), stride=(1, 1), padding=(1, 1), bias=False)\n",
              "          (bn2): FrozenBatchNorm2d(256, eps=0.0)\n",
              "          (conv3): Conv2d(256, 1024, kernel_size=(1, 1), stride=(1, 1), bias=False)\n",
              "          (bn3): FrozenBatchNorm2d(1024, eps=0.0)\n",
              "          (relu): ReLU(inplace=True)\n",
              "        )\n",
              "      )\n",
              "      (layer4): Sequential(\n",
              "        (0): Bottleneck(\n",
              "          (conv1): Conv2d(1024, 512, kernel_size=(1, 1), stride=(1, 1), bias=False)\n",
              "          (bn1): FrozenBatchNorm2d(512, eps=0.0)\n",
              "          (conv2): Conv2d(512, 512, kernel_size=(3, 3), stride=(2, 2), padding=(1, 1), bias=False)\n",
              "          (bn2): FrozenBatchNorm2d(512, eps=0.0)\n",
              "          (conv3): Conv2d(512, 2048, kernel_size=(1, 1), stride=(1, 1), bias=False)\n",
              "          (bn3): FrozenBatchNorm2d(2048, eps=0.0)\n",
              "          (relu): ReLU(inplace=True)\n",
              "          (downsample): Sequential(\n",
              "            (0): Conv2d(1024, 2048, kernel_size=(1, 1), stride=(2, 2), bias=False)\n",
              "            (1): FrozenBatchNorm2d(2048, eps=0.0)\n",
              "          )\n",
              "        )\n",
              "        (1): Bottleneck(\n",
              "          (conv1): Conv2d(2048, 512, kernel_size=(1, 1), stride=(1, 1), bias=False)\n",
              "          (bn1): FrozenBatchNorm2d(512, eps=0.0)\n",
              "          (conv2): Conv2d(512, 512, kernel_size=(3, 3), stride=(1, 1), padding=(1, 1), bias=False)\n",
              "          (bn2): FrozenBatchNorm2d(512, eps=0.0)\n",
              "          (conv3): Conv2d(512, 2048, kernel_size=(1, 1), stride=(1, 1), bias=False)\n",
              "          (bn3): FrozenBatchNorm2d(2048, eps=0.0)\n",
              "          (relu): ReLU(inplace=True)\n",
              "        )\n",
              "        (2): Bottleneck(\n",
              "          (conv1): Conv2d(2048, 512, kernel_size=(1, 1), stride=(1, 1), bias=False)\n",
              "          (bn1): FrozenBatchNorm2d(512, eps=0.0)\n",
              "          (conv2): Conv2d(512, 512, kernel_size=(3, 3), stride=(1, 1), padding=(1, 1), bias=False)\n",
              "          (bn2): FrozenBatchNorm2d(512, eps=0.0)\n",
              "          (conv3): Conv2d(512, 2048, kernel_size=(1, 1), stride=(1, 1), bias=False)\n",
              "          (bn3): FrozenBatchNorm2d(2048, eps=0.0)\n",
              "          (relu): ReLU(inplace=True)\n",
              "        )\n",
              "      )\n",
              "    )\n",
              "    (fpn): FeaturePyramidNetwork(\n",
              "      (inner_blocks): ModuleList(\n",
              "        (0): Conv2dNormActivation(\n",
              "          (0): Conv2d(256, 256, kernel_size=(1, 1), stride=(1, 1))\n",
              "        )\n",
              "        (1): Conv2dNormActivation(\n",
              "          (0): Conv2d(512, 256, kernel_size=(1, 1), stride=(1, 1))\n",
              "        )\n",
              "        (2): Conv2dNormActivation(\n",
              "          (0): Conv2d(1024, 256, kernel_size=(1, 1), stride=(1, 1))\n",
              "        )\n",
              "        (3): Conv2dNormActivation(\n",
              "          (0): Conv2d(2048, 256, kernel_size=(1, 1), stride=(1, 1))\n",
              "        )\n",
              "      )\n",
              "      (layer_blocks): ModuleList(\n",
              "        (0-3): 4 x Conv2dNormActivation(\n",
              "          (0): Conv2d(256, 256, kernel_size=(3, 3), stride=(1, 1), padding=(1, 1))\n",
              "        )\n",
              "      )\n",
              "      (extra_blocks): LastLevelMaxPool()\n",
              "    )\n",
              "  )\n",
              "  (rpn): RegionProposalNetwork(\n",
              "    (anchor_generator): AnchorGenerator()\n",
              "    (head): RPNHead(\n",
              "      (conv): Sequential(\n",
              "        (0): Conv2dNormActivation(\n",
              "          (0): Conv2d(256, 256, kernel_size=(3, 3), stride=(1, 1), padding=(1, 1))\n",
              "          (1): ReLU(inplace=True)\n",
              "        )\n",
              "      )\n",
              "      (cls_logits): Conv2d(256, 3, kernel_size=(1, 1), stride=(1, 1))\n",
              "      (bbox_pred): Conv2d(256, 12, kernel_size=(1, 1), stride=(1, 1))\n",
              "    )\n",
              "  )\n",
              "  (roi_heads): RoIHeads(\n",
              "    (box_roi_pool): MultiScaleRoIAlign(featmap_names=['0', '1', '2', '3'], output_size=(7, 7), sampling_ratio=2)\n",
              "    (box_head): TwoMLPHead(\n",
              "      (fc6): Linear(in_features=12544, out_features=1024, bias=True)\n",
              "      (fc7): Linear(in_features=1024, out_features=1024, bias=True)\n",
              "    )\n",
              "    (box_predictor): FastRCNNPredictor(\n",
              "      (cls_score): Linear(in_features=1024, out_features=6, bias=True)\n",
              "      (bbox_pred): Linear(in_features=1024, out_features=24, bias=True)\n",
              "    )\n",
              "  )\n",
              ")"
            ]
          },
          "metadata": {},
          "execution_count": 114
        }
      ],
      "source": [
        "model.to(device)"
      ]
    },
    {
      "cell_type": "code",
      "execution_count": 115,
      "id": "d60570db",
      "metadata": {
        "id": "d60570db"
      },
      "outputs": [],
      "source": [
        "optimizer = torch.optim.SGD(model.parameters(), lr=0.001, momentum=0.9,\n",
        "                            weight_decay=0.0005)\n"
      ]
    },
    {
      "cell_type": "code",
      "execution_count": 116,
      "id": "8a500203",
      "metadata": {
        "id": "8a500203"
      },
      "outputs": [],
      "source": [
        "lr_scheduler = torch.optim.lr_scheduler.StepLR(optimizer, step_size=3, gamma=0.1)"
      ]
    },
    {
      "cell_type": "code",
      "execution_count": 117,
      "id": "a7008066",
      "metadata": {
        "id": "a7008066"
      },
      "outputs": [],
      "source": [
        "def train(model, epochs, lr, optimizer, train_loader, valid_loader):\n",
        "    train_epoch_loss = []\n",
        "    valid_epoch_loss = []\n",
        "    mAP = []\n",
        "    metric = MeanAveragePrecision().to(device)\n",
        "\n",
        "    for epoch in range(epochs):\n",
        "        model.train()\n",
        "        train_loss = 0\n",
        "\n",
        "        for images, targets in train_loader:\n",
        "            images = list(image.to(device) for image in images)\n",
        "            targets = [{k: v.to(device) for k, v in t.items()} for t in targets]\n",
        "\n",
        "            optimizer.zero_grad()\n",
        "            loss_dict = model(images, targets)\n",
        "            losses = sum(loss for loss in loss_dict.values())\n",
        "\n",
        "            # Backward pass\n",
        "            losses.backward()\n",
        "            optimizer.step()\n",
        "            train_loss += losses.item()\n",
        "\n",
        "        lr.step()\n",
        "        avg_train_loss = train_loss / len(train_loader)\n",
        "        train_epoch_loss.append(avg_train_loss)\n",
        "\n",
        "        model.eval()\n",
        "        valid_loss = 0\n",
        "        with torch.no_grad():\n",
        "            for images, targets in valid_loader:\n",
        "                images = list(image.to(device) for image in images)\n",
        "                targets = [{k: v.to(device) for k, v in t.items()} for t in targets]\n",
        "\n",
        "\n",
        "                predictions = model(images)\n",
        "                metric.update(predictions, targets)\n",
        "\n",
        "                model.train()\n",
        "                loss_dict = model(images, targets)\n",
        "                losses = sum(loss for loss in loss_dict.values())\n",
        "                valid_loss += losses.item()\n",
        "                model.eval()\n",
        "\n",
        "        avg_valid_loss = valid_loss / len(valid_loader)\n",
        "        valid_epoch_loss.append(avg_valid_loss)\n",
        "        mAP_results = metric.compute()\n",
        "        mAP.append(mAP_results)\n",
        "        metric.reset()\n",
        "\n",
        "\n",
        "        print(f\" Epoca: {epoch} | \" \\\n",
        "          f\"Train/Valid loss: {train_epoch_loss[-1]}/{valid_epoch_loss[-1]})\" \\\n",
        "            f\"Validation mAP@50: {mAP_results['map_50']:.4f} | mAP@75: {mAP_results['map_75']:.4f}\")\n",
        "\n"
      ]
    },
    {
      "cell_type": "code",
      "execution_count": null,
      "id": "90fd6bb9",
      "metadata": {
        "id": "90fd6bb9"
      },
      "outputs": [],
      "source": [
        "train(\n",
        "    model = model,\n",
        "    epochs = 10,\n",
        "    lr = lr_scheduler,\n",
        "    optimizer = optimizer,\n",
        "    train_loader = train_loader,\n",
        "    valid_loader = valid_loader\n",
        ")"
      ]
    },
    {
      "cell_type": "markdown",
      "id": "50d83abe",
      "metadata": {
        "id": "50d83abe"
      },
      "source": [
        "### 1.2. Testeo del modelo"
      ]
    },
    {
      "cell_type": "code",
      "execution_count": null,
      "id": "c65ece05",
      "metadata": {
        "id": "c65ece05"
      },
      "outputs": [],
      "source": [
        "torch.save(model.state_dict(), \"fasterrcnn_model.pth\")\n"
      ]
    },
    {
      "cell_type": "code",
      "execution_count": null,
      "id": "26f07ec7",
      "metadata": {
        "id": "26f07ec7"
      },
      "outputs": [],
      "source": [
        "model = fasterrcnn_resnet50_fpn(weights=None)\n",
        "\n",
        "num_classes = 5 + 1\n",
        "\n",
        "in_features = model.roi_heads.box_predictor.cls_score.in_features\n",
        "\n",
        "model.roi_heads.box_predictor = FastRCNNPredictor(in_features, num_classes)\n",
        "\n",
        "bestmodel = torch.load('fasterrcnn_model.pth')\n",
        "model.load_state_dict(bestmodel)\n",
        "\n",
        "model.eval()\n",
        "model.to(device)"
      ]
    },
    {
      "cell_type": "code",
      "execution_count": null,
      "id": "42186a5f",
      "metadata": {
        "id": "42186a5f"
      },
      "outputs": [],
      "source": [
        "test_images_dir = os.path.join(base_dir, 'test/images')\n",
        "test_labels_dir = os.path.join(base_dir, 'test/labels')\n"
      ]
    },
    {
      "cell_type": "code",
      "execution_count": null,
      "id": "edcb63ee",
      "metadata": {
        "id": "edcb63ee"
      },
      "outputs": [],
      "source": [
        "test_dataset = XRayBaggageAnomalyDataset(\n",
        "    images_dir = test_images_dir,\n",
        "    labels_dir = test_labels_dir,\n",
        "    transforms = transform\n",
        ")"
      ]
    },
    {
      "cell_type": "code",
      "execution_count": null,
      "id": "b62bc5a1",
      "metadata": {
        "id": "b62bc5a1"
      },
      "outputs": [],
      "source": [
        "test_loader = DataLoader(test_dataset, batch_size=4, shuffle=False,\n",
        "                                    collate_fn=lambda x: tuple(zip(*x)))"
      ]
    },
    {
      "cell_type": "code",
      "execution_count": null,
      "id": "79d4ff7d",
      "metadata": {
        "id": "79d4ff7d"
      },
      "outputs": [],
      "source": [
        "data_iterator = iter(test_loader)\n",
        "\n",
        "images, targets = next(data_iterator)"
      ]
    },
    {
      "cell_type": "code",
      "execution_count": null,
      "id": "fb78237a",
      "metadata": {
        "id": "fb78237a"
      },
      "outputs": [],
      "source": [
        "test_img = images[0]\n",
        "test_target = targets[0]\n",
        "\n",
        "test_img_indx = test_target['image_id']\n",
        "test_img_path = sorted(os.listdir(test_images_dir))[test_img_indx]"
      ]
    },
    {
      "cell_type": "code",
      "execution_count": null,
      "id": "33641193",
      "metadata": {
        "id": "33641193"
      },
      "outputs": [],
      "source": [
        "visualize_image_with_bboxes(test_images_dir, test_labels_dir, test_img_path, class_names)"
      ]
    },
    {
      "cell_type": "code",
      "execution_count": null,
      "id": "7631042c",
      "metadata": {
        "id": "7631042c"
      },
      "outputs": [],
      "source": [
        "test_img = test_img.to(device)\n",
        "with torch.no_grad():\n",
        "    predictions = model([test_img])"
      ]
    },
    {
      "cell_type": "code",
      "execution_count": null,
      "id": "81b26e27",
      "metadata": {
        "id": "81b26e27"
      },
      "outputs": [],
      "source": [
        "predicted_box = predictions[0]['boxes'].cpu().detach().numpy()\n",
        "predicted_box = predicted_box[0]\n",
        "predicted_class = predictions[0]['labels']\n"
      ]
    },
    {
      "cell_type": "code",
      "execution_count": null,
      "id": "6730e62a",
      "metadata": {
        "id": "6730e62a"
      },
      "outputs": [],
      "source": [
        "predicted_class = predictions[0]['labels'].cpu().detach().numpy()[0] - 1"
      ]
    },
    {
      "cell_type": "code",
      "execution_count": null,
      "id": "4f55f334",
      "metadata": {
        "id": "4f55f334"
      },
      "outputs": [],
      "source": [
        "x_min, y_min, x_max, y_max = predicted_box"
      ]
    },
    {
      "cell_type": "code",
      "execution_count": null,
      "id": "4d75e70a",
      "metadata": {
        "id": "4d75e70a"
      },
      "outputs": [],
      "source": [
        "def visualize_image_with_predicted_bboxes(image_dir, boxes, image_name, predicted_class):\n",
        "    \"\"\"\n",
        "    Muestra una imagen con sus bounding boxes.\n",
        "    \"\"\"\n",
        "    image_path = os.path.join(image_dir, image_name)\n",
        "\n",
        "    image = cv2.imread(image_path)\n",
        "    image = cv2.cvtColor(image, cv2.COLOR_BGR2RGB)\n",
        "\n",
        "    fig, ax = plt.subplots(1, figsize=(8, 8))\n",
        "    ax.imshow(image)\n",
        "    ax.set_title(f\"Visualización de: {image_name}\")\n",
        "    x_min, y_min, x_max, y_max = boxes\n",
        "    rect_width = x_max - x_min\n",
        "    rect_height = y_max - y_min\n",
        "    rect = patches.Rectangle((x_min, y_min), rect_width, rect_height,\n",
        "                             linewidth=2, edgecolor='g', facecolor='none')\n",
        "    ax.add_patch(rect)\n",
        "\n",
        "    plt.text(x_min, y_min, predicted_class, color='white', fontsize=12, backgroundcolor='red')\n",
        "\n",
        "    plt.axis('off')\n",
        "    plt.show()"
      ]
    },
    {
      "cell_type": "code",
      "execution_count": null,
      "id": "27f36ff3",
      "metadata": {
        "id": "27f36ff3"
      },
      "outputs": [],
      "source": [
        "visualize_image_with_predicted_bboxes(test_images_dir, predicted_box, test_img_path, predicted_class)"
      ]
    },
    {
      "cell_type": "code",
      "execution_count": null,
      "id": "c7813dba",
      "metadata": {
        "id": "c7813dba"
      },
      "outputs": [],
      "source": [
        "#En la imagend de prueba se logra identificar correctamente el objeto pero se obtiene un error en la clase del mismo"
      ]
    },
    {
      "cell_type": "code",
      "execution_count": null,
      "id": "eb82e7c2",
      "metadata": {
        "id": "eb82e7c2"
      },
      "outputs": [],
      "source": [
        "test_metric = MeanAveragePrecision().to(device)\n",
        "\n",
        "with torch.no_grad():\n",
        "    for images, targets in test_loader:\n",
        "        images = list(img.to(device) for img in images)\n",
        "        targets = [{k: v.to(device) for k, v in t.items()} for t in targets]\n",
        "\n",
        "        predictions = model(images)\n",
        "        test_metric.update(predictions, targets)\n",
        "\n",
        "test_map_results = test_metric.compute()\n",
        "print(f\"Resultados finales en el Test Set:\")\n",
        "print(f\"mAP@50: {test_map_results['map_50']:.4f}\")\n",
        "print(f\"mAP@75: {test_map_results['map_75']:.4f}\")"
      ]
    },
    {
      "cell_type": "markdown",
      "id": "6773fe07",
      "metadata": {
        "id": "6773fe07"
      },
      "source": [
        "#### 2.1 Implementacion de Yolo"
      ]
    },
    {
      "cell_type": "code",
      "execution_count": null,
      "id": "37055f88",
      "metadata": {
        "id": "37055f88"
      },
      "outputs": [],
      "source": [
        "!pip -q install -U ultralytics\n",
        "from ultralytics import YOLO\n",
        "import torch, subprocess, sys"
      ]
    },
    {
      "cell_type": "code",
      "execution_count": null,
      "id": "66ed6764",
      "metadata": {
        "id": "66ed6764"
      },
      "outputs": [],
      "source": [
        "print(\"CUDA disponible:\", torch.cuda.is_available())\n",
        "if torch.cuda.is_available():\n",
        "    print(subprocess.run([\"nvidia-smi\"], text=True, capture_output=True).stdout[:4000])"
      ]
    },
    {
      "cell_type": "code",
      "execution_count": null,
      "id": "63c9e802",
      "metadata": {
        "id": "63c9e802"
      },
      "outputs": [],
      "source": [
        "model = YOLO(\"yolo11s.pt\")  # A100: se puede usar yolo11m/l\n",
        "\n",
        "results = model.train(\n",
        "    data=f\"{path}/data.yaml\",\n",
        "    epochs=10,\n",
        "    imgsz=resize,      # A100: 1152–1280\n",
        "    batch=-1,        # AutoBatch en CUDA\n",
        "    device=0,        # GPU\n",
        "    workers=2,\n",
        "    patience=30,\n",
        "    project=\"runs\", name=\"xray_y11_gpu\"\n",
        ")"
      ]
    },
    {
      "cell_type": "code",
      "execution_count": null,
      "id": "d7ec7de2",
      "metadata": {
        "id": "d7ec7de2"
      },
      "outputs": [],
      "source": [
        "from IPython.display import Image\n",
        "Image(filename=\"/content/runs/xray_y11_gpu/results.png\")"
      ]
    },
    {
      "cell_type": "code",
      "execution_count": null,
      "id": "787596ae",
      "metadata": {
        "id": "787596ae"
      },
      "outputs": [],
      "source": [
        "metrics = model.val()\n",
        "print(metrics)"
      ]
    },
    {
      "cell_type": "markdown",
      "id": "d9d5bedb",
      "metadata": {
        "id": "d9d5bedb"
      },
      "source": [
        "### 2.2 Validacion de modelo Yolo"
      ]
    },
    {
      "cell_type": "code",
      "execution_count": null,
      "id": "0989eeb4",
      "metadata": {
        "id": "0989eeb4"
      },
      "outputs": [],
      "source": [
        "best = \"/content/runs/xray_y11_gpu/weights/best.pt\"\n",
        "trained_model = YOLO(best)\n",
        "\n",
        "# Carpeta completa\n",
        "trained_model.predict(\n",
        "    source=\"dataset/test/images\",  # o una carpeta de test\n",
        "    conf=0.25,    # umbral de confianza\n",
        "    iou=0.7,      # supresión de no-máximos\n",
        "    save=True     # guarda imágenes con cajas dibujadas\n",
        ")"
      ]
    },
    {
      "cell_type": "code",
      "execution_count": null,
      "id": "1fc77507",
      "metadata": {
        "id": "1fc77507"
      },
      "outputs": [],
      "source": [
        "from IPython.display import Image\n",
        "Image(filename=\"/content/runs/xray_y11_gpu/results.png\")"
      ]
    },
    {
      "cell_type": "code",
      "execution_count": null,
      "id": "3ef58e86",
      "metadata": {
        "id": "3ef58e86"
      },
      "outputs": [],
      "source": [
        "# === Graficar curvas desde results.csv de Ultralytics (YOLOv11) ===\n",
        "import os\n",
        "from pathlib import Path\n",
        "import pandas as pd\n",
        "import matplotlib.pyplot as plt\n",
        "\n",
        "# 1) Ubicar el run\n",
        "#run_name = None  # por ejemplo \"xray_y11_gpu\"; usa None para auto-detectar el último run\n",
        "run_name = \"xray_y11_gpu\" # Specify the exact run name\n",
        "\n",
        "base = Path(\"runs\") / \"detect\"\n",
        "# Removed the assertion as the base path might vary or not exist before finding the run_dir\n",
        "\n",
        "if run_name is None:\n",
        "    # tomar el run más reciente por fecha de modificación\n",
        "    candidates = [p for p in base.iterdir() if p.is_dir()]\n",
        "    assert candidates, f\"No hay subfolders in {base}\"\n",
        "    run_dir = max(candidates, key=lambda p: p.stat().st_mtime)\n",
        "else:\n",
        "    # Construct the full path to the specified run directory\n",
        "    run_dir = Path(\"/content/runs\") / run_name\n",
        "\n",
        "assert run_dir.exists(), f\"No existe {run_dir}\"\n",
        "\n",
        "# 2) Leer CSV - The results.csv is directly in the run directory\n",
        "csv_path = run_dir / \"results.csv\"\n",
        "assert csv_path.exists(), f\"No existe {csv_path}\"\n",
        "\n",
        "print(\"Usando run:\", run_dir)\n",
        "print(\"CSV:\", csv_path)\n",
        "\n",
        "# Read the CSV into a DataFrame and assign it to df\n",
        "df = pd.read_csv(csv_path)\n",
        "\n",
        "# 3) Función auxiliar para graficar una o varias columnas en una sola figura\n",
        "def plot_cols(df, xcol, ycols, title, ylabel, outfile):\n",
        "    plt.figure()  # figura independiente (no subplots)\n",
        "    for c in ycols:\n",
        "        if c in df.columns:\n",
        "            plt.plot(df[xcol], df[c], label=c)\n",
        "    plt.title(title)\n",
        "    plt.xlabel(xcol)\n",
        "    plt.ylabel(ylabel)\n",
        "    plt.legend()\n",
        "    plt.grid(True)\n",
        "    plt.tight_layout()\n",
        "    plt.savefig(run_dir / outfile, dpi=150)\n",
        "    plt.show()\n",
        "\n",
        "# 4) Detectar nombres de columnas típicos (Ultralytics puede variar slightly)\n",
        "cols = df.columns.str.lower()\n",
        "\n",
        "def find_first(*keys):\n",
        "    for k in keys:\n",
        "        match = [c for c in df.columns if c.lower().startswith(k)] # Use startswith for more flexibility\n",
        "        if match:\n",
        "            return match[0]\n",
        "    return None\n",
        "\n",
        "# Nombre de la columna de época\n",
        "epoch_col = find_first(\"epoch\") or df.columns[0]\n",
        "\n",
        "# Pérdidas (train)\n",
        "loss_cols = [c for c in df.columns if any(k in c.lower() for k in [\"box_loss\",\"cls_loss\",\"dfl_loss\"])]\n",
        "\n",
        "# Métricas (val)\n",
        "prec_cols = [c for c in df.columns if c.lower().startswith(\"metrics/precision\")]\n",
        "recall_cols = [c for c in df.columns if c.lower().startswith(\"metrics/recall\")]\n",
        "map50_cols = [c for c in df.columns if c.lower().startswith(\"metrics/mmap_0.5\")]\n",
        "map5095_cols = [c for c in df.columns if c.lower().startswith(\"metrics/mmap_0.5:0.95\")]\n",
        "\n",
        "\n",
        "# 5) Graficar (each plot in its own figure)\n",
        "if loss_cols:\n",
        "    plot_cols(df, epoch_col, loss_cols, \"Curvas de pérdidas\", \"Loss\", \"plot_losses.png\")\n",
        "else:\n",
        "    print(\"No encontré columnas de pérdidas (box_loss/cls_loss/dfl_loss) en el CSV.\")\n",
        "\n",
        "if prec_cols:\n",
        "    plot_cols(df, epoch_col, prec_cols, \"Precisión (val)\", \"Precision\", \"plot_precision.png\")\n",
        "else:\n",
        "    print(\"No encontré columnas de precisión en el CSV.\")\n",
        "\n",
        "if recall_cols:\n",
        "    plot_cols(df, epoch_col, recall_cols, \"Recall (val)\", \"Recall\", \"plot_recall.png\")\n",
        "else:\n",
        "    print(\"No encontré columnas de recall en el CSV.\")\n",
        "\n",
        "map_cols = map50_cols + map5095_cols\n",
        "if map_cols:\n",
        "    plot_cols(df, epoch_col, map_cols, \"mAP (val)\", \"mAP\", \"plot_map.png\")\n",
        "else:\n",
        "    print(\"No encontré columnas de mAP en el CSV.\")\n",
        "\n",
        "print(\"Figuras guardadas en:\", run_dir)"
      ]
    },
    {
      "cell_type": "markdown",
      "id": "376c1fec",
      "metadata": {
        "id": "376c1fec"
      },
      "source": [
        "### 3. Implementación CornerNet\n",
        "\n",
        "CornerNet es una arquitectura que detecta objetos identificando pares de keypoints (esquinas superior izquierda e inferior derecha) que forman las bounding boxes. Utiliza stacked hourglass networks para generar heatmaps de las esquinas y embeddings para agrupar las esquinas que pertenecen al mismo objeto."
      ]
    },
    {
      "cell_type": "markdown",
      "id": "08d8cc29",
      "metadata": {
        "id": "08d8cc29"
      },
      "source": [
        "#### 3.1. Importaciones adicionales para CornerNet"
      ]
    },
    {
      "cell_type": "code",
      "execution_count": null,
      "id": "9c7793a6",
      "metadata": {
        "id": "9c7793a6"
      },
      "outputs": [],
      "source": [
        "import os\n",
        "import yaml\n",
        "import math\n",
        "import random\n",
        "import numpy as np\n",
        "import cv2\n",
        "from PIL import Image\n",
        "\n",
        "import torch\n",
        "import torch.nn as nn\n",
        "import torch.nn.functional as F\n",
        "from torch.utils.data import Dataset, DataLoader\n",
        "import torchvision.transforms as T\n",
        "\n",
        "import matplotlib.pyplot as plt\n",
        "import matplotlib.patches as patches"
      ]
    },
    {
      "cell_type": "code",
      "execution_count": null,
      "id": "df036e3f",
      "metadata": {
        "id": "df036e3f"
      },
      "outputs": [],
      "source": [
        "if torch.cuda.is_available():\n",
        "    device = torch.device('cuda')\n",
        "    print(f\"✅ GPU detectada: {torch.cuda.get_device_name(0)}\")\n",
        "else:\n",
        "    device = torch.device('cpu')\n",
        "    print(\"⚠️  Usando CPU\")\n",
        "\n",
        "try:\n",
        "    dataset_dir = globals().get('dataset_dir', 'dataset')\n",
        "    base_dir = globals().get('base_dir', dataset_dir)\n",
        "    train_images_dir = globals().get('train_images_dir', os.path.join(base_dir, 'train/images'))\n",
        "    train_labels_dir = globals().get('train_labels_dir', os.path.join(base_dir, 'train/labels'))\n",
        "    valid_images_dir = globals().get('valid_images_dir', os.path.join(base_dir, 'valid/images'))\n",
        "    valid_labels_dir = globals().get('valid_labels_dir', os.path.join(base_dir, 'valid/labels'))\n",
        "\n",
        "    if os.path.exists(train_images_dir) and os.path.exists(valid_images_dir):\n",
        "        print(f\"✅ Dataset encontrado en: {base_dir}\")\n",
        "    else:\n",
        "        raise FileNotFoundError(\"Dataset no encontrado\")\n",
        "\n",
        "except:\n",
        "    base_dir = 'dataset'\n",
        "    train_images_dir = os.path.join(base_dir, 'train/images')\n",
        "    train_labels_dir = os.path.join(base_dir, 'train/labels')\n",
        "    valid_images_dir = os.path.join(base_dir, 'valid/images')\n",
        "    valid_labels_dir = os.path.join(base_dir, 'valid/labels')\n",
        "    print(f\"📁 Configuración por defecto del dataset: {base_dir}\")\n",
        "\n",
        "try:\n",
        "    with open(os.path.join(base_dir, 'data.yaml'), 'r') as file:\n",
        "        data_yaml = yaml.safe_load(file)\n",
        "        class_names = data_yaml['names']\n",
        "    print(f\"✅ Clases del dataset: {class_names}\")\n",
        "except:\n",
        "    class_names = ['class_0', 'class_1', 'class_2', 'class_3', 'class_4']\n",
        "    print(f\"⚠️  Usando nombres de clases por defecto: {class_names}\")\n",
        "\n",
        "print(f\"🚀 Configuración completa - Dispositivo: {device}\")"
      ]
    },
    {
      "cell_type": "code",
      "execution_count": null,
      "id": "6cca8bfa",
      "metadata": {
        "id": "6cca8bfa"
      },
      "outputs": [],
      "source": [
        "import torch.nn as nn\n",
        "import torch.nn.functional as F\n",
        "from torch.utils.data import Dataset\n",
        "import torchvision.transforms.functional as TF\n",
        "from collections import defaultdict\n",
        "import time"
      ]
    },
    {
      "cell_type": "code",
      "execution_count": null,
      "id": "4638805d",
      "metadata": {
        "id": "4638805d"
      },
      "outputs": [],
      "source": [
        "# Detectar y configurar dispositivo (GPU si está disponible, sino CPU)\n",
        "import torch\n",
        "\n",
        "print(\"=== DETECCIÓN DE DISPOSITIVO ===\")\n",
        "print(f\"PyTorch versión: {torch.__version__}\")\n",
        "print(f\"CUDA disponible: {torch.cuda.is_available()}\")\n",
        "\n",
        "if torch.cuda.is_available():\n",
        "    print(f\"Número de GPUs: {torch.cuda.device_count()}\")\n",
        "    print(f\"GPU actual: {torch.cuda.get_device_name(0)}\")\n",
        "    print(f\"Memoria GPU total: {torch.cuda.get_device_properties(0).total_memory / 1024**3:.1f} GB\")\n",
        "    print(f\"Memoria GPU libre: {torch.cuda.memory_reserved(0) / 1024**3:.1f} GB\")\n",
        "    device = torch.device('cuda')\n",
        "    print(\"✅ Usando GPU para entrenamiento\")\n",
        "else:\n",
        "    device = torch.device('cpu')\n",
        "    print(\"⚠️  GPU no detectada. Usando CPU\")\n",
        "    print(\"💡 Para usar GPU, asegúrate de tener:\")\n",
        "    print(\"   - Drivers NVIDIA actualizados\")\n",
        "    print(\"   - CUDA Toolkit instalado\")\n",
        "    print(\"   - PyTorch con soporte CUDA: pip install torch torchvision --index-url https://download.pytorch.org/whl/cu118\")\n",
        "\n",
        "print(f\"\\n🚀 Dispositivo seleccionado: {device}\")"
      ]
    },
    {
      "cell_type": "markdown",
      "id": "e8a079c9",
      "metadata": {
        "id": "e8a079c9"
      },
      "source": [
        "#### 2.2. Componentes básicos de CornerNet"
      ]
    },
    {
      "cell_type": "code",
      "execution_count": null,
      "id": "1fd13f86",
      "metadata": {
        "id": "1fd13f86"
      },
      "outputs": [],
      "source": [
        "class CornerPooling(nn.Module):\n",
        "    \"\"\"\n",
        "    Corner Pooling Layer para CornerNet.\n",
        "    Agrupa información de esquinas direccionalmente.\n",
        "    \"\"\"\n",
        "    def __init__(self, dim):\n",
        "        super(CornerPooling, self).__init__()\n",
        "        self.dim = dim\n",
        "\n",
        "    def forward(self, x):\n",
        "        if self.dim == 0:  # Top-left pooling\n",
        "            pool1 = F.max_pool2d(x, (x.size(2), 1), stride=1)\n",
        "            pool2 = F.max_pool2d(x, (1, x.size(3)), stride=1)\n",
        "            return pool1 + pool2\n",
        "        else:  # Bottom-right pooling\n",
        "            pool1 = F.max_pool2d(torch.flip(x, [2]), (x.size(2), 1), stride=1)\n",
        "            pool1 = torch.flip(pool1, [2])\n",
        "            pool2 = F.max_pool2d(torch.flip(x, [3]), (1, x.size(3)), stride=1)\n",
        "            pool2 = torch.flip(pool2, [3])\n",
        "            return pool1 + pool2\n",
        "\n",
        "class ResidualBlock(nn.Module):\n",
        "    \"\"\"\n",
        "    Bloque residual básico para la red hourglass.\n",
        "    \"\"\"\n",
        "    def __init__(self, in_channels, out_channels, stride=1):\n",
        "        super(ResidualBlock, self).__init__()\n",
        "        self.conv1 = nn.Conv2d(in_channels, out_channels//2, 1, bias=False)\n",
        "        self.bn1 = nn.BatchNorm2d(out_channels//2)\n",
        "        self.conv2 = nn.Conv2d(out_channels//2, out_channels//2, 3, stride=stride, padding=1, bias=False)\n",
        "        self.bn2 = nn.BatchNorm2d(out_channels//2)\n",
        "        self.conv3 = nn.Conv2d(out_channels//2, out_channels, 1, bias=False)\n",
        "        self.bn3 = nn.BatchNorm2d(out_channels)\n",
        "\n",
        "        self.shortcut = nn.Sequential()\n",
        "        if stride != 1 or in_channels != out_channels:\n",
        "            self.shortcut = nn.Sequential(\n",
        "                nn.Conv2d(in_channels, out_channels, 1, stride=stride, bias=False),\n",
        "                nn.BatchNorm2d(out_channels)\n",
        "            )\n",
        "\n",
        "    def forward(self, x):\n",
        "        out = F.relu(self.bn1(self.conv1(x)))\n",
        "        out = F.relu(self.bn2(self.conv2(out)))\n",
        "        out = self.bn3(self.conv3(out))\n",
        "        out += self.shortcut(x)\n",
        "        out = F.relu(out)\n",
        "        return out"
      ]
    },
    {
      "cell_type": "markdown",
      "id": "6f3d84dc",
      "metadata": {
        "id": "6f3d84dc"
      },
      "source": [
        "#### 2.3. Red Hourglass para CornerNet"
      ]
    },
    {
      "cell_type": "code",
      "execution_count": null,
      "id": "3d738783",
      "metadata": {
        "id": "3d738783"
      },
      "outputs": [],
      "source": [
        "class HourglassModule(nn.Module):\n",
        "    \"\"\"\n",
        "    Módulo Hourglass para CornerNet.\n",
        "    Implementa una arquitectura de encoder-decoder para capturar información multi-escala.\n",
        "    \"\"\"\n",
        "    def __init__(self, depth, num_features):\n",
        "        super(HourglassModule, self).__init__()\n",
        "        self.depth = depth\n",
        "        self.num_features = num_features\n",
        "\n",
        "        # Capas de downsampling\n",
        "        self.down_layers = nn.ModuleList()\n",
        "        self.up_layers = nn.ModuleList()\n",
        "        self.skip_layers = nn.ModuleList()\n",
        "\n",
        "        for i in range(depth):\n",
        "            # Downsampling path\n",
        "            self.down_layers.append(ResidualBlock(num_features, num_features, stride=2))\n",
        "            # Skip connections\n",
        "            self.skip_layers.append(ResidualBlock(num_features, num_features))\n",
        "            # Upsampling path\n",
        "            self.up_layers.append(ResidualBlock(num_features, num_features))\n",
        "\n",
        "        # Bottom layer\n",
        "        self.bottom = ResidualBlock(num_features, num_features)\n",
        "\n",
        "    def forward(self, x):\n",
        "        # Store skip connections\n",
        "        skip_connections = []\n",
        "\n",
        "        # Downsampling path\n",
        "        for i in range(self.depth):\n",
        "            skip_connections.append(self.skip_layers[i](x))\n",
        "            x = self.down_layers[i](x)\n",
        "\n",
        "        # Bottom\n",
        "        x = self.bottom(x)\n",
        "\n",
        "        # Upsampling path\n",
        "        for i in range(self.depth - 1, -1, -1):\n",
        "            x = F.interpolate(x, scale_factor=2, mode='bilinear', align_corners=False)\n",
        "            x = self.up_layers[i](x)\n",
        "            x = x + skip_connections[i]\n",
        "\n",
        "        return x\n",
        "\n",
        "class StackedHourglass(nn.Module):\n",
        "    \"\"\"\n",
        "    Red Stacked Hourglass para CornerNet.\n",
        "    \"\"\"\n",
        "    def __init__(self, num_stacks=2, num_features=256, num_classes=5):\n",
        "        super(StackedHourglass, self).__init__()\n",
        "        self.num_stacks = num_stacks\n",
        "        self.num_features = num_features\n",
        "        self.num_classes = num_classes\n",
        "\n",
        "        # Preprocessing layers\n",
        "        self.pre_conv = nn.Conv2d(3, 64, 7, stride=2, padding=3, bias=False)\n",
        "        self.pre_bn = nn.BatchNorm2d(64)\n",
        "        self.pre_res1 = ResidualBlock(64, 128, stride=2)\n",
        "        self.pre_res2 = ResidualBlock(128, num_features)\n",
        "\n",
        "        # Hourglass modules\n",
        "        self.hourglasses = nn.ModuleList([\n",
        "            HourglassModule(4, num_features) for _ in range(num_stacks)\n",
        "        ])\n",
        "\n",
        "        # Feature processing after each hourglass\n",
        "        self.features = nn.ModuleList([\n",
        "            ResidualBlock(num_features, num_features) for _ in range(num_stacks)\n",
        "        ])\n",
        "\n",
        "        # Output layers for each stack\n",
        "        self.out_convs = nn.ModuleList([\n",
        "            nn.Conv2d(num_features, num_features, 3, padding=1) for _ in range(num_stacks)\n",
        "        ])\n",
        "\n",
        "        # Remap features for next stack\n",
        "        self.remap_convs = nn.ModuleList([\n",
        "            nn.Conv2d(num_features, num_features, 1) for _ in range(num_stacks - 1)\n",
        "        ])\n",
        "        self.remap_out = nn.ModuleList([\n",
        "            nn.Conv2d(num_features, num_features, 1) for _ in range(num_stacks - 1)\n",
        "        ])\n",
        "\n",
        "    def forward(self, x):\n",
        "        # Preprocessing\n",
        "        x = F.relu(self.pre_bn(self.pre_conv(x)))\n",
        "        x = self.pre_res1(x)\n",
        "        x = self.pre_res2(x)\n",
        "\n",
        "        inter_features = []\n",
        "\n",
        "        for i in range(self.num_stacks):\n",
        "            # Hourglass forward\n",
        "            hg_out = self.hourglasses[i](x)\n",
        "            feature = self.features[i](hg_out)\n",
        "            out = self.out_convs[i](feature)\n",
        "\n",
        "            inter_features.append(out)\n",
        "\n",
        "            if i < self.num_stacks - 1:\n",
        "                # Prepare for next stack\n",
        "                x = x + self.remap_convs[i](out) + self.remap_out[i](feature)\n",
        "\n",
        "        return inter_features"
      ]
    },
    {
      "cell_type": "markdown",
      "id": "564e6adb",
      "metadata": {
        "id": "564e6adb"
      },
      "source": [
        "#### 2.4. Modelo CornerNet completo"
      ]
    },
    {
      "cell_type": "code",
      "execution_count": null,
      "id": "8e3863af",
      "metadata": {
        "id": "8e3863af"
      },
      "outputs": [],
      "source": [
        "class CornerNet(nn.Module):\n",
        "    \"\"\"\n",
        "    Implementación completa de CornerNet.\n",
        "    Detecta objetos identificando pares de esquinas (top-left y bottom-right).\n",
        "    \"\"\"\n",
        "    def __init__(self, num_classes=5, num_stacks=2, num_features=256):\n",
        "        super(CornerNet, self).__init__()\n",
        "        self.num_classes = num_classes\n",
        "        self.num_stacks = num_stacks\n",
        "\n",
        "        # Backbone: Stacked Hourglass\n",
        "        self.backbone = StackedHourglass(num_stacks, num_features, num_classes)\n",
        "\n",
        "        # Corner pooling modules\n",
        "        self.tl_pool = CornerPooling(dim=0)  # Top-left pooling\n",
        "        self.br_pool = CornerPooling(dim=1)  # Bottom-right pooling\n",
        "\n",
        "        # Corner detection heads\n",
        "        self.tl_heat = nn.Sequential(\n",
        "            nn.Conv2d(num_features, 256, 3, padding=1),\n",
        "            nn.ReLU(inplace=True),\n",
        "            nn.Conv2d(256, num_classes, 1)\n",
        "        )\n",
        "\n",
        "        self.br_heat = nn.Sequential(\n",
        "            nn.Conv2d(num_features, 256, 3, padding=1),\n",
        "            nn.ReLU(inplace=True),\n",
        "            nn.Conv2d(256, num_classes, 1)\n",
        "        )\n",
        "\n",
        "        # Embedding heads para agrupar esquinas\n",
        "        self.tl_emb = nn.Sequential(\n",
        "            nn.Conv2d(num_features, 256, 3, padding=1),\n",
        "            nn.ReLU(inplace=True),\n",
        "            nn.Conv2d(256, 1, 1)\n",
        "        )\n",
        "\n",
        "        self.br_emb = nn.Sequential(\n",
        "            nn.Conv2d(num_features, 256, 3, padding=1),\n",
        "            nn.ReLU(inplace=True),\n",
        "            nn.Conv2d(256, 1, 1)\n",
        "        )\n",
        "\n",
        "        # Offset heads para refinamiento de posición\n",
        "        self.tl_off = nn.Sequential(\n",
        "            nn.Conv2d(num_features, 256, 3, padding=1),\n",
        "            nn.ReLU(inplace=True),\n",
        "            nn.Conv2d(256, 2, 1)\n",
        "        )\n",
        "\n",
        "        self.br_off = nn.Sequential(\n",
        "            nn.Conv2d(num_features, 256, 3, padding=1),\n",
        "            nn.ReLU(inplace=True),\n",
        "            nn.Conv2d(256, 2, 1)\n",
        "        )\n",
        "\n",
        "    def forward(self, x):\n",
        "        # Extract features from backbone\n",
        "        inter_features = self.backbone(x)\n",
        "\n",
        "        # Use features from the last stack\n",
        "        features = inter_features[-1]\n",
        "\n",
        "        # Apply corner pooling\n",
        "        tl_feat = self.tl_pool(features)\n",
        "        br_feat = self.br_pool(features)\n",
        "\n",
        "        # Generate heatmaps, embeddings, and offsets\n",
        "        tl_heat = self.tl_heat(tl_feat)\n",
        "        br_heat = self.br_heat(br_feat)\n",
        "\n",
        "        tl_emb = self.tl_emb(tl_feat)\n",
        "        br_emb = self.br_emb(br_feat)\n",
        "\n",
        "        tl_off = self.tl_off(tl_feat)\n",
        "        br_off = self.br_off(br_feat)\n",
        "\n",
        "        return {\n",
        "            'tl_heat': tl_heat,\n",
        "            'br_heat': br_heat,\n",
        "            'tl_emb': tl_emb,\n",
        "            'br_emb': br_emb,\n",
        "            'tl_off': tl_off,\n",
        "            'br_off': br_off\n",
        "        }"
      ]
    },
    {
      "cell_type": "markdown",
      "id": "1cf9f348",
      "metadata": {
        "id": "1cf9f348"
      },
      "source": [
        "#### 2.5. Dataset para CornerNet"
      ]
    },
    {
      "cell_type": "code",
      "execution_count": null,
      "id": "3fd4935d",
      "metadata": {
        "id": "3fd4935d"
      },
      "outputs": [],
      "source": [
        "def gaussian_2d(shape, sigma=1):\n",
        "    \"\"\"\n",
        "    Genera un kernel gaussiano 2D.\n",
        "    \"\"\"\n",
        "    m, n = [(ss - 1.) / 2. for ss in shape]\n",
        "    y, x = np.ogrid[-m:m+1, -n:n+1]\n",
        "    h = np.exp(-(x*x + y*y) / (2*sigma*sigma))\n",
        "    h[h < np.finfo(h.dtype).eps*h.max()] = 0\n",
        "    return h\n",
        "\n",
        "def draw_gaussian(heatmap, center, radius):\n",
        "    \"\"\"\n",
        "    Dibuja un gaussiano en el heatmap centrado en 'center' con radio 'radius'.\n",
        "    \"\"\"\n",
        "    diameter = 2 * radius + 1\n",
        "    gaussian = gaussian_2d((diameter, diameter), sigma=diameter / 6)\n",
        "\n",
        "    x, y = int(center[0]), int(center[1])\n",
        "\n",
        "    height, width = heatmap.shape[0:2]\n",
        "\n",
        "    left, right = min(x, radius), min(width - x, radius + 1)\n",
        "    top, bottom = min(y, radius), min(height - y, radius + 1)\n",
        "\n",
        "    masked_heatmap = heatmap[y - top:y + bottom, x - left:x + right]\n",
        "    masked_gaussian = gaussian[radius - top:radius + bottom, radius - left:radius + right]\n",
        "\n",
        "    if min(masked_gaussian.shape) > 0 and min(masked_heatmap.shape) > 0:\n",
        "        np.maximum(masked_heatmap, masked_gaussian, out=masked_heatmap)\n",
        "\n",
        "    return heatmap\n",
        "\n",
        "class CornerNetDataset(Dataset):\n",
        "    \"\"\"\n",
        "    Dataset personalizado para CornerNet que genera heatmaps de esquinas y embeddings.\n",
        "    \"\"\"\n",
        "    def __init__(self, images_dir, labels_dir, input_size=512, output_size=128, transforms=None):\n",
        "        self.images_dir = images_dir\n",
        "        self.labels_dir = labels_dir\n",
        "        self.input_size = input_size\n",
        "        self.output_size = output_size\n",
        "        self.transforms = transforms\n",
        "        self.img_files = sorted([f for f in os.listdir(images_dir) if f.endswith('.jpg')])\n",
        "        self.downsample_ratio = input_size // output_size\n",
        "\n",
        "    def __getitem__(self, index):\n",
        "        # Cargar imagen\n",
        "        img_path = os.path.join(self.images_dir, self.img_files[index])\n",
        "        img = Image.open(img_path).convert(\"RGB\")\n",
        "\n",
        "        # Redimensionar imagen\n",
        "        img = img.resize((self.input_size, self.input_size))\n",
        "\n",
        "        # Cargar etiquetas\n",
        "        label_path = os.path.join(self.labels_dir, self.img_files[index].replace('.jpg', '.txt'))\n",
        "\n",
        "        # Inicializar targets\n",
        "        tl_heatmaps = np.zeros((5, self.output_size, self.output_size), dtype=np.float32)\n",
        "        br_heatmaps = np.zeros((5, self.output_size, self.output_size), dtype=np.float32)\n",
        "        tl_embeddings = np.zeros((1, self.output_size, self.output_size), dtype=np.float32)\n",
        "        br_embeddings = np.zeros((1, self.output_size, self.output_size), dtype=np.float32)\n",
        "        tl_offsets = np.zeros((2, self.output_size, self.output_size), dtype=np.float32)\n",
        "        br_offsets = np.zeros((2, self.output_size, self.output_size), dtype=np.float32)\n",
        "\n",
        "        with open(label_path, 'r') as f:\n",
        "            for tag, line in enumerate(f):\n",
        "                class_id, x_center, y_center, width_norm, height_norm = map(float, line.split())\n",
        "\n",
        "                # Convertir coordenadas normalizadas a coordenadas de imagen\n",
        "                box_w = width_norm * self.input_size\n",
        "                box_h = height_norm * self.input_size\n",
        "                x_min = (x_center * self.input_size) - (box_w / 2)\n",
        "                y_min = (y_center * self.input_size) - (box_h / 2)\n",
        "                x_max = x_min + box_w\n",
        "                y_max = y_min + box_h\n",
        "\n",
        "                # Convertir a coordenadas del heatmap\n",
        "                tl_x = x_min / self.downsample_ratio\n",
        "                tl_y = y_min / self.downsample_ratio\n",
        "                br_x = x_max / self.downsample_ratio\n",
        "                br_y = y_max / self.downsample_ratio\n",
        "\n",
        "                # Calcular radio del gaussiano basado en el tamaño del objeto\n",
        "                radius = max(1, int(min(box_w, box_h) / self.downsample_ratio / 6))\n",
        "\n",
        "                # Generar heatmaps\n",
        "                if 0 <= tl_x < self.output_size and 0 <= tl_y < self.output_size:\n",
        "                    draw_gaussian(tl_heatmaps[int(class_id)], [tl_x, tl_y], radius)\n",
        "\n",
        "                    # Calcular offsets\n",
        "                    tl_x_int, tl_y_int = int(tl_x), int(tl_y)\n",
        "                    tl_offsets[0, tl_y_int, tl_x_int] = tl_x - tl_x_int\n",
        "                    tl_offsets[1, tl_y_int, tl_x_int] = tl_y - tl_y_int\n",
        "\n",
        "                    # Embedding para agrupar esquinas del mismo objeto\n",
        "                    tl_embeddings[0, tl_y_int, tl_x_int] = tag\n",
        "\n",
        "                if 0 <= br_x < self.output_size and 0 <= br_y < self.output_size:\n",
        "                    draw_gaussian(br_heatmaps[int(class_id)], [br_x, br_y], radius)\n",
        "\n",
        "                    # Calcular offsets\n",
        "                    br_x_int, br_y_int = int(br_x), int(br_y)\n",
        "                    br_offsets[0, br_y_int, br_x_int] = br_x - br_x_int\n",
        "                    br_offsets[1, br_y_int, br_x_int] = br_y - br_y_int\n",
        "\n",
        "                    # Embedding para agrupar esquinas del mismo objeto\n",
        "                    br_embeddings[0, br_y_int, br_x_int] = tag\n",
        "\n",
        "        # Aplicar transformaciones\n",
        "        if self.transforms:\n",
        "            img = self.transforms(img)\n",
        "\n",
        "        return img, {\n",
        "            'tl_heat': torch.from_numpy(tl_heatmaps),\n",
        "            'br_heat': torch.from_numpy(br_heatmaps),\n",
        "            'tl_emb': torch.from_numpy(tl_embeddings),\n",
        "            'br_emb': torch.from_numpy(br_embeddings),\n",
        "            'tl_off': torch.from_numpy(tl_offsets),\n",
        "            'br_off': torch.from_numpy(br_offsets)\n",
        "        }\n",
        "\n",
        "    def __len__(self):\n",
        "        return len(self.img_files)"
      ]
    },
    {
      "cell_type": "markdown",
      "id": "bf7d10c9",
      "metadata": {
        "id": "bf7d10c9"
      },
      "source": [
        "#### 2.6. Función de pérdida para CornerNet"
      ]
    },
    {
      "cell_type": "code",
      "execution_count": null,
      "id": "8dc39d34",
      "metadata": {
        "id": "8dc39d34"
      },
      "outputs": [],
      "source": [
        "class FocalLoss(nn.Module):\n",
        "    \"\"\"\n",
        "    Focal Loss para heatmaps de esquinas.\n",
        "    Ayuda a manejar el desbalance entre esquinas positivas y negativas.\n",
        "    \"\"\"\n",
        "    def __init__(self, alpha=2, beta=4):\n",
        "        super(FocalLoss, self).__init__()\n",
        "        self.alpha = alpha\n",
        "        self.beta = beta\n",
        "\n",
        "    def forward(self, pred, gt):\n",
        "        \"\"\"\n",
        "        pred: predicted heatmap (N, C, H, W)\n",
        "        gt: ground truth heatmap (N, C, H, W)\n",
        "        \"\"\"\n",
        "        pred = torch.clamp(pred.sigmoid(), min=1e-4, max=1-1e-4)\n",
        "\n",
        "        pos_inds = gt.eq(1).float()\n",
        "        neg_inds = gt.lt(1).float()\n",
        "\n",
        "        neg_weights = torch.pow(1 - gt, self.beta)\n",
        "\n",
        "        pos_loss = torch.log(pred) * torch.pow(1 - pred, self.alpha) * pos_inds\n",
        "        neg_loss = torch.log(1 - pred) * torch.pow(pred, self.alpha) * neg_weights * neg_inds\n",
        "\n",
        "        num_pos = pos_inds.float().sum()\n",
        "        pos_loss = pos_loss.sum()\n",
        "        neg_loss = neg_loss.sum()\n",
        "\n",
        "        if num_pos == 0:\n",
        "            loss = -neg_loss\n",
        "        else:\n",
        "            loss = -(pos_loss + neg_loss) / num_pos\n",
        "\n",
        "        return loss\n",
        "\n",
        "class CornerNetLoss(nn.Module):\n",
        "    \"\"\"\n",
        "    Función de pérdida completa para CornerNet.\n",
        "    Combina focal loss para heatmaps, L1 loss para offsets y pull-push loss para embeddings.\n",
        "    \"\"\"\n",
        "    def __init__(self):\n",
        "        super(CornerNetLoss, self).__init__()\n",
        "        self.focal_loss = FocalLoss()\n",
        "        self.l1_loss = nn.L1Loss(reduction='sum')\n",
        "\n",
        "    def pull_push_loss(self, pred_emb, gt_emb):\n",
        "        \"\"\"\n",
        "        Pull-push loss para embeddings.\n",
        "        Pull: esquinas del mismo objeto deben tener embeddings similares.\n",
        "        Push: esquinas de diferentes objetos deben tener embeddings diferentes.\n",
        "        \"\"\"\n",
        "        # Simplificación: usar L1 loss para embeddings\n",
        "        return self.l1_loss(pred_emb, gt_emb)\n",
        "\n",
        "    def forward(self, predictions, targets):\n",
        "        # Focal loss para heatmaps\n",
        "        tl_heat_loss = self.focal_loss(predictions['tl_heat'], targets['tl_heat'])\n",
        "        br_heat_loss = self.focal_loss(predictions['br_heat'], targets['br_heat'])\n",
        "\n",
        "        # L1 loss para offsets\n",
        "        tl_off_loss = self.l1_loss(predictions['tl_off'], targets['tl_off'])\n",
        "        br_off_loss = self.l1_loss(predictions['br_off'], targets['br_off'])\n",
        "\n",
        "        # Pull-push loss para embeddings\n",
        "        tl_emb_loss = self.pull_push_loss(predictions['tl_emb'], targets['tl_emb'])\n",
        "        br_emb_loss = self.pull_push_loss(predictions['br_emb'], targets['br_emb'])\n",
        "\n",
        "        # Combinar pérdidas\n",
        "        total_loss = (tl_heat_loss + br_heat_loss +\n",
        "                     0.1 * (tl_off_loss + br_off_loss) +\n",
        "                     0.1 * (tl_emb_loss + br_emb_loss))\n",
        "\n",
        "        return {\n",
        "            'total_loss': total_loss,\n",
        "            'heat_loss': tl_heat_loss + br_heat_loss,\n",
        "            'off_loss': tl_off_loss + br_off_loss,\n",
        "            'emb_loss': tl_emb_loss + br_emb_loss\n",
        "        }"
      ]
    },
    {
      "cell_type": "markdown",
      "id": "6476c2c5",
      "metadata": {
        "id": "6476c2c5"
      },
      "source": [
        "#### 2.7. Configuración y entrenamiento de CornerNet"
      ]
    },
    {
      "cell_type": "code",
      "execution_count": null,
      "id": "c6753a01",
      "metadata": {
        "id": "c6753a01"
      },
      "outputs": [],
      "source": [
        "# Importar transforms si no está disponible\n",
        "import torchvision.transforms as T\n",
        "\n",
        "# Crear datasets para CornerNet\n",
        "transform_cornernet = T.Compose([\n",
        "    T.ToTensor(),\n",
        "    T.Normalize(mean=[0.485, 0.456, 0.406], std=[0.229, 0.224, 0.225])\n",
        "])\n",
        "\n",
        "train_dataset_cornernet = CornerNetDataset(\n",
        "    images_dir=train_images_dir,\n",
        "    labels_dir=train_labels_dir,\n",
        "    transforms=transform_cornernet\n",
        ")\n",
        "\n",
        "valid_dataset_cornernet = CornerNetDataset(\n",
        "    images_dir=valid_images_dir,\n",
        "    labels_dir=valid_labels_dir,\n",
        "    transforms=transform_cornernet\n",
        ")"
      ]
    },
    {
      "cell_type": "code",
      "execution_count": null,
      "id": "93e37112",
      "metadata": {
        "id": "93e37112"
      },
      "outputs": [],
      "source": [
        "from torch.utils.data import DataLoader\n",
        "\n",
        "if 'train_dataset_cornernet' not in globals() or 'valid_dataset_cornernet' not in globals():\n",
        "    print(\"⚠️  Los datasets de CornerNet no están disponibles.\")\n",
        "    print(\"💡 Ejecuta primero las celdas de definición de CornerNetDataset y creación de datasets.\")\n",
        "else:\n",
        "    # Crear DataLoaders para CornerNet\n",
        "    train_loader_cornernet = DataLoader(\n",
        "        train_dataset_cornernet,\n",
        "        batch_size=2,  # Batch size menor debido a la complejidad del modelo\n",
        "        shuffle=True,\n",
        "        num_workers=0  # Para evitar problemas en Windows\n",
        "    )\n",
        "\n",
        "    valid_loader_cornernet = DataLoader(\n",
        "        valid_dataset_cornernet,\n",
        "        batch_size=2,\n",
        "        shuffle=False,\n",
        "        num_workers=0\n",
        "    )\n",
        "\n",
        "    print(\"✅ DataLoaders de CornerNet creados exitosamente\")\n",
        "    print(f\"📊 Train batches: {len(train_loader_cornernet)}\")\n",
        "    print(f\"📊 Valid batches: {len(valid_loader_cornernet)}\")\n",
        "    print(f\"🎯 Batch size: 2 (optimizado para CornerNet)\")"
      ]
    },
    {
      "cell_type": "code",
      "execution_count": null,
      "id": "1bc20adc",
      "metadata": {
        "id": "1bc20adc"
      },
      "outputs": [],
      "source": [
        "required_classes = ['CornerNet', 'CornerNetLoss']\n",
        "missing_classes = [cls for cls in required_classes if cls not in globals()]\n",
        "\n",
        "if missing_classes:\n",
        "    print(f\"⚠️  Faltan definiciones: {missing_classes}\")\n",
        "    print(\"💡 Ejecuta primero las celdas de definición de las clases de CornerNet.\")\n",
        "else:\n",
        "    # Inicializar modelo CornerNet\n",
        "    cornernet_model = CornerNet(num_classes=5, num_stacks=1, num_features=256)  # 1 stack para prueba rápida\n",
        "    cornernet_model.to(device)\n",
        "\n",
        "    # Función de pérdida\n",
        "    cornernet_criterion = CornerNetLoss()\n",
        "\n",
        "    # Optimizador para CornerNet\n",
        "    cornernet_optimizer = torch.optim.Adam(cornernet_model.parameters(), lr=2.5e-4, weight_decay=1e-4)\n",
        "\n",
        "    # Scheduler\n",
        "    cornernet_scheduler = torch.optim.lr_scheduler.MultiStepLR(\n",
        "        cornernet_optimizer,\n",
        "        milestones=[90, 120],\n",
        "        gamma=0.1\n",
        "    )\n",
        "\n",
        "    print(\"✅ CornerNet model inicializado correctamente\")\n",
        "    print(f\"🚀 Dispositivo: {device}\")\n",
        "    print(f\"🧮 Número de parámetros: {sum(p.numel() for p in cornernet_model.parameters() if p.requires_grad):,}\")\n",
        "    print(f\"🏗️  Arquitectura: {cornernet_model.num_stacks} stack(s), {cornernet_model.num_classes} clases\")\n",
        "    print(f\"🎯 Optimizador: Adam (lr=2.5e-4, weight_decay=1e-4)\")\n",
        "    print(f\"📈 Scheduler: MultiStepLR (milestones=[90, 120])\")"
      ]
    },
    {
      "cell_type": "code",
      "execution_count": null,
      "id": "f7243289",
      "metadata": {
        "id": "f7243289"
      },
      "outputs": [],
      "source": [
        "def train_cornernet(model, criterion, optimizer, scheduler, train_loader, valid_loader, num_epochs=25, patience=7):\n",
        "    \"\"\"\n",
        "    Función de entrenamiento para CornerNet con monitoreo inteligente y optimización automática.\n",
        "    \"\"\"\n",
        "    train_losses = []\n",
        "    valid_losses = []\n",
        "\n",
        "    # Configuración de monitoreo inteligente\n",
        "    best_valid_loss = float('inf')\n",
        "    patience_counter = 0\n",
        "    best_model_state = None\n",
        "\n",
        "    print(\"🚀 Iniciando entrenamiento de CornerNet...\")\n",
        "    print(f\"📋 Configuración: {num_epochs} épocas máximas, paciencia de {patience} épocas\")\n",
        "    print(f\"🎯 Optimización automática activada\")\n",
        "\n",
        "    for epoch in range(num_epochs):\n",
        "        # Fase de entrenamiento\n",
        "        model.train()\n",
        "        epoch_train_loss = 0.0\n",
        "        train_batches = 0\n",
        "\n",
        "        print(f\"\\n📅 Época {epoch + 1}/{num_epochs}\")\n",
        "        print(\"-\" * 50)\n",
        "\n",
        "        for batch_idx, (images, targets) in enumerate(train_loader):\n",
        "            images = images.to(device)\n",
        "            targets = {k: v.to(device) for k, v in targets.items()}\n",
        "\n",
        "            optimizer.zero_grad()\n",
        "\n",
        "            # Forward pass\n",
        "            predictions = model(images)\n",
        "\n",
        "            # Calcular pérdida\n",
        "            loss_dict = criterion(predictions, targets)\n",
        "            loss = loss_dict['total_loss']\n",
        "\n",
        "            # Backward pass\n",
        "            loss.backward()\n",
        "\n",
        "            # Gradient clipping para estabilidad\n",
        "            torch.nn.utils.clip_grad_norm_(model.parameters(), max_norm=1.0)\n",
        "\n",
        "            optimizer.step()\n",
        "\n",
        "            epoch_train_loss += loss.item()\n",
        "            train_batches += 1\n",
        "\n",
        "            # Log cada 20 batches para reducir duplicación\n",
        "            if batch_idx % 20 == 0:\n",
        "                print(f\"  📊 Batch {batch_idx}/{len(train_loader)}, Loss: {loss.item():.4f}\")\n",
        "\n",
        "        # Fase de validación\n",
        "        model.eval()\n",
        "        epoch_valid_loss = 0.0\n",
        "        valid_batches = 0\n",
        "\n",
        "        with torch.no_grad():\n",
        "            for images, targets in valid_loader:\n",
        "                images = images.to(device)\n",
        "                targets = {k: v.to(device) for k, v in targets.items()}\n",
        "\n",
        "                predictions = model(images)\n",
        "                loss_dict = criterion(predictions, targets)\n",
        "                loss = loss_dict['total_loss']\n",
        "\n",
        "                epoch_valid_loss += loss.item()\n",
        "                valid_batches += 1\n",
        "\n",
        "        # Calcular pérdidas promedio\n",
        "        avg_train_loss = epoch_train_loss / train_batches if train_batches > 0 else 0\n",
        "        avg_valid_loss = epoch_valid_loss / valid_batches if valid_batches > 0 else 0\n",
        "\n",
        "        train_losses.append(avg_train_loss)\n",
        "        valid_losses.append(avg_valid_loss)\n",
        "\n",
        "        # Actualizar scheduler\n",
        "        scheduler.step()\n",
        "\n",
        "        print(f\"📈 Época {epoch + 1} - Train: {avg_train_loss:.4f}, Valid: {avg_valid_loss:.4f}\")\n",
        "        print(f\"🎯 Learning Rate: {optimizer.param_groups[0]['lr']:.6f}\")\n",
        "\n",
        "        # Monitoreo inteligente y optimización\n",
        "        if avg_valid_loss < best_valid_loss - 0.001:  # Mejora significativa\n",
        "            best_valid_loss = avg_valid_loss\n",
        "            patience_counter = 0\n",
        "            best_model_state = model.state_dict().copy()\n",
        "            print(f\"✅ Nueva mejor pérdida: {best_valid_loss:.4f}\")\n",
        "        else:\n",
        "            patience_counter += 1\n",
        "            print(f\"⚠️  Sin mejora: {patience_counter}/{patience}\")\n",
        "\n",
        "            if patience_counter >= patience:\n",
        "                print(f\"\\n🛑 Deteniendo entrenamiento - Sin mejora por {patience} épocas\")\n",
        "                print(f\"🔄 Restaurando mejor modelo (pérdida: {best_valid_loss:.4f})\")\n",
        "                if best_model_state is not None:\n",
        "                    model.load_state_dict(best_model_state)\n",
        "                break\n",
        "\n",
        "    print(f\"\\n✅ Entrenamiento completado!\")\n",
        "    print(f\"📊 Mejor pérdida de validación: {best_valid_loss:.4f}\")\n",
        "    print(f\"🏃 Épocas entrenadas: {len(train_losses)}\")\n",
        "\n",
        "    return train_losses, valid_losses"
      ]
    },
    {
      "cell_type": "code",
      "execution_count": null,
      "id": "8d39c978",
      "metadata": {
        "id": "8d39c978"
      },
      "outputs": [],
      "source": [
        "# Entrenar CornerNet\n",
        "print(\"🎯 ENTRENAMIENTO CORNERNET\")\n",
        "print(\"=\" * 50)\n",
        "\n",
        "cornernet_train_losses, cornernet_valid_losses = train_cornernet(\n",
        "    model=cornernet_model,\n",
        "    criterion=cornernet_criterion,\n",
        "    optimizer=cornernet_optimizer,\n",
        "    scheduler=cornernet_scheduler,\n",
        "    train_loader=train_loader_cornernet,\n",
        "    valid_loader=valid_loader_cornernet,\n",
        "    num_epochs=10,\n",
        "    patience=2\n",
        ")"
      ]
    },
    {
      "cell_type": "code",
      "execution_count": null,
      "id": "26b8c9e7",
      "metadata": {
        "id": "26b8c9e7"
      },
      "outputs": [],
      "source": [
        "# Guardar modelo CornerNet\n",
        "torch.save(cornernet_model.state_dict(), \"cornernet_model.pth\")\n",
        "print(\"Modelo CornerNet guardado exitosamente.\")"
      ]
    },
    {
      "cell_type": "markdown",
      "id": "6528f28b",
      "metadata": {
        "id": "6528f28b"
      },
      "source": [
        "#### 2.8. Analisis de resultados: CornerNet"
      ]
    },
    {
      "cell_type": "code",
      "execution_count": null,
      "id": "0a54bbe9",
      "metadata": {
        "id": "0a54bbe9"
      },
      "outputs": [],
      "source": [
        "import matplotlib.pyplot as plt\n",
        "import numpy as np\n",
        "from datetime import timedelta\n",
        "\n",
        "\n",
        "# Información del entrenamiento\n",
        "epochs_trained = 8\n",
        "best_valid_loss = 10.0739\n",
        "final_train_loss = 9.9240\n",
        "final_valid_loss = 11.0825\n",
        "early_stop_epoch = 8\n",
        "patience_used = 5"
      ]
    },
    {
      "cell_type": "code",
      "execution_count": null,
      "id": "7ec54f28",
      "metadata": {
        "id": "7ec54f28"
      },
      "outputs": [],
      "source": [
        "# Visualizar pérdidas de entrenamiento de CornerNet\n",
        "plt.figure(figsize=(12, 5))\n",
        "\n",
        "plt.subplot(1, 2, 1)\n",
        "plt.plot(cornernet_train_losses, label='Train Loss', color='blue')\n",
        "plt.plot(cornernet_valid_losses, label='Validation Loss', color='red')\n",
        "plt.title('CornerNet - Pérdidas de Entrenamiento')\n",
        "plt.xlabel('Epoca')\n",
        "plt.ylabel('Pérdida')\n",
        "plt.legend()\n",
        "plt.grid(True)\n",
        "\n",
        "plt.subplot(1, 2, 2)\n",
        "epochs = range(1, len(cornernet_train_losses) + 1)\n",
        "plt.plot(epochs, cornernet_train_losses, 'bo-', label='Train Loss')\n",
        "plt.plot(epochs, cornernet_valid_losses, 'ro-', label='Validation Loss')\n",
        "plt.title('CornerNet - Evolución de las Pérdidas')\n",
        "plt.xlabel('Epoca')\n",
        "plt.ylabel('Pérdida')\n",
        "plt.legend()\n",
        "plt.grid(True)\n",
        "\n",
        "plt.tight_layout()\n",
        "plt.show()\n",
        "\n",
        "print(f\"Pérdida final de entrenamiento: {cornernet_train_losses[-1]:.4f}\")\n",
        "print(f\"Pérdida final de validación: {cornernet_valid_losses[-1]:.4f}\")"
      ]
    },
    {
      "cell_type": "code",
      "execution_count": null,
      "id": "e73ac8ab",
      "metadata": {
        "id": "e73ac8ab"
      },
      "outputs": [],
      "source": [
        "# Análisis 1: Convergencia\n",
        "print(f\"- CONVERGENCIA:\")\n",
        "print(f\"   • Épocas entrenadas: {epochs_trained}\")\n",
        "print(f\"   • Early stopping activado en época: {early_stop_epoch}\")\n",
        "print(f\"   • Mejor pérdida de validación: {best_valid_loss:.4f}\")\n",
        "print(f\"   • Pérdida final de entrenamiento: {final_train_loss:.4f}\")\n",
        "print(f\"   • Pérdida final de validación: {final_valid_loss:.4f}\")\n",
        "\n",
        "# Análisis 2: Overfitting\n",
        "gap = final_valid_loss - final_train_loss\n",
        "print(f\"\\n- ANÁLISIS DE OVERFITTING:\")\n",
        "print(f\"   • Gap Train-Valid: {gap:.4f}\")\n",
        "if gap > 2.0:\n",
        "    print(f\"   • OVERFITTING DETECTADO (gap > 2.0)\")\n",
        "elif gap > 1.0:\n",
        "    print(f\"   • OVERFITTING MODERADO (gap > 1.0)\")\n",
        "else:\n",
        "    print(f\"   • OVERFITTING CONTROLADO (gap < 1.0)\")\n",
        "\n",
        "# Análisis 3: Efectividad del Early Stopping\n",
        "print(f\"\\n- EARLY STOPPING:\")\n",
        "print(f\"   • Paciencia usada: {patience_used} épocas\")"
      ]
    },
    {
      "cell_type": "code",
      "execution_count": null,
      "id": "0d635bcd",
      "metadata": {
        "id": "0d635bcd"
      },
      "outputs": [],
      "source": [
        "# Visualización optimizada de resultados de CornerNet\n",
        "plt.figure(figsize=(16, 10))\n",
        "\n",
        "# Subplot 1: Curvas de entrenamiento con anotaciones inteligentes\n",
        "plt.subplot(2, 3, 1)\n",
        "epochs = range(1, len(cornernet_train_losses) + 1)\n",
        "plt.plot(epochs, cornernet_train_losses, 'b-', linewidth=2.5, label='Entrenamiento', marker='o', markersize=4)\n",
        "plt.plot(epochs, cornernet_valid_losses, 'r-', linewidth=2.5, label='Validación', marker='s', markersize=4)\n",
        "\n",
        "# Marcar punto de mejor resultado\n",
        "best_epoch_idx = cornernet_valid_losses.index(min(cornernet_valid_losses))\n",
        "plt.plot(best_epoch_idx + 1, cornernet_valid_losses[best_epoch_idx], 'go', markersize=10,\n",
        "         label=f'Mejor: {min(cornernet_valid_losses):.3f}')\n",
        "\n",
        "plt.title('Evolución del Entrenamiento CornerNet', fontsize=12, fontweight='bold')\n",
        "plt.xlabel('Época')\n",
        "plt.ylabel('Pérdida')\n",
        "plt.legend()\n",
        "plt.grid(True, alpha=0.3)\n",
        "\n",
        "# Subplot 2: Análisis de overfitting con zona de alerta\n",
        "plt.subplot(2, 3, 2)\n",
        "gap = [v - t for v, t in zip(cornernet_valid_losses, cornernet_train_losses)]\n",
        "plt.plot(epochs, gap, 'purple', linewidth=3, marker='D', markersize=4)\n",
        "plt.axhline(y=1.0, color='orange', linestyle='--', alpha=0.7, label='Umbral Moderado')\n",
        "plt.axhline(y=2.0, color='red', linestyle='--', alpha=0.7, label='Umbral Crítico')\n",
        "plt.fill_between(epochs, 1.0, 2.0, alpha=0.2, color='orange', label='Zona Riesgo')\n",
        "plt.fill_between(epochs, 2.0, max(gap) + 0.5, alpha=0.2, color='red', label='Zona Crítica')\n",
        "plt.title('Monitoreo de Overfitting', fontsize=12, fontweight='bold')\n",
        "plt.xlabel('Época')\n",
        "plt.ylabel('Gap (Valid - Train)')\n",
        "plt.legend()\n",
        "plt.grid(True, alpha=0.3)\n",
        "\n",
        "# Subplot 3: Velocidad de convergencia (gradiente)\n",
        "plt.subplot(2, 3, 3)\n",
        "if len(cornernet_valid_losses) > 1:\n",
        "    valid_gradient = np.gradient(cornernet_valid_losses)\n",
        "    plt.plot(epochs[1:], valid_gradient[1:], 'r-', linewidth=2.5, label='Tasa de Mejora Valid')\n",
        "    plt.axhline(y=0, color='black', linestyle='-', alpha=0.5, label='Sin Cambio')\n",
        "    plt.fill_between(epochs[1:], 0, valid_gradient[1:], where=(np.array(valid_gradient[1:]) < 0),\n",
        "                     alpha=0.3, color='green', label='Mejorando')\n",
        "    plt.fill_between(epochs[1:], 0, valid_gradient[1:], where=(np.array(valid_gradient[1:]) > 0),\n",
        "                     alpha=0.3, color='red', label='Empeorando')\n",
        "plt.title('Velocidad de Convergencia', fontsize=12, fontweight='bold')\n",
        "plt.xlabel('Época')\n",
        "plt.ylabel('Cambio en Pérdida')\n",
        "plt.legend()\n",
        "plt.grid(True, alpha=0.3)\n",
        "\n",
        "# Subplot 4: Comparación con benchmarks realista\n",
        "plt.subplot(2, 3, 4)\n",
        "models = ['CornerNet\\nOriginal', 'Nuestro\\nModelo', 'Objetivo\\nDeseado']\n",
        "# Usar datos reales en lugar de valores ficticios\n",
        "losses = [7.0, min(cornernet_valid_losses), 8.0]\n",
        "colors = ['skyblue', 'red' if min(cornernet_valid_losses) > 8.0 else 'lightgreen', 'gold']\n",
        "bars = plt.bar(models, losses, color=colors, alpha=0.7, edgecolor='black', linewidth=1.5)\n",
        "plt.title('Comparación con Referencias', fontsize=12, fontweight='bold')\n",
        "plt.ylabel('Pérdida de Validación')\n",
        "for bar, loss in zip(bars, losses):\n",
        "    plt.text(bar.get_x() + bar.get_width()/2, bar.get_height() + 0.1,\n",
        "             f'{loss:.2f}', ha='center', va='bottom', fontweight='bold')\n",
        "\n",
        "# Subplot 5: Eficiencia del entrenamiento (datos reales)\n",
        "plt.subplot(2, 3, 5)\n",
        "metrics = ['Épocas\\nUsadas', 'Tiempo\\nRelativo', 'Eficiencia\\nEarly Stop']\n",
        "# Calcular métricas reales\n",
        "epochs_used = len(cornernet_train_losses)\n",
        "max_possible_epochs = 20  # Asumiendo máximo típico\n",
        "efficiency = (1 - epochs_used / max_possible_epochs) * 100 if epochs_used < max_possible_epochs else 0\n",
        "values = [epochs_used, epochs_used / max_possible_epochs * 100, efficiency]\n",
        "colors = ['lightblue', 'lightcoral', 'lightgreen']\n",
        "bars = plt.bar(metrics, values, color=colors, alpha=0.7, edgecolor='black', linewidth=1.5)\n",
        "plt.title('Eficiencia del Entrenamiento', fontsize=12, fontweight='bold')\n",
        "plt.ylabel('Cantidad / Porcentaje')\n",
        "for i, (bar, value) in enumerate(zip(bars, values)):\n",
        "    if i == 0:\n",
        "        text = f'{int(value)}'\n",
        "    else:\n",
        "        text = f'{value:.1f}%'\n",
        "    plt.text(bar.get_x() + bar.get_width()/2, bar.get_height() + 1,\n",
        "             text, ha='center', va='bottom', fontweight='bold')\n",
        "\n",
        "# Subplot 6: Resumen final con estado del modelo\n",
        "plt.subplot(2, 3, 6)\n",
        "# Crear gráfico de estado tipo semáforo\n",
        "categories = ['Convergencia', 'Overfitting', 'Eficiencia']\n",
        "# Evaluar cada categoría\n",
        "conv_score = 3 if min(cornernet_valid_losses) < 8.0 else 2 if min(cornernet_valid_losses) < 12.0 else 1\n",
        "over_score = 3 if gap[-1] < 1.0 else 2 if gap[-1] < 2.0 else 1\n",
        "eff_score = 3 if efficiency > 30 else 2 if efficiency > 10 else 1\n",
        "scores = [conv_score, over_score, eff_score]\n",
        "colors = ['red' if s == 1 else 'orange' if s == 2 else 'green' for s in scores]\n",
        "\n",
        "bars = plt.bar(categories, scores, color=colors, alpha=0.7, edgecolor='black', linewidth=1.5)\n",
        "plt.title('Estado General del Modelo', fontsize=12, fontweight='bold')\n",
        "plt.ylabel('Puntuación (1-3)')\n",
        "plt.ylim(0, 3.5)\n",
        "for bar, score in zip(bars, scores):\n",
        "    status = 'Excelente' if score == 3 else 'Bueno' if score == 2 else 'Mejorable'\n",
        "    plt.text(bar.get_x() + bar.get_width()/2, bar.get_height() + 0.1,\n",
        "             status, ha='center', va='bottom', fontweight='bold', fontsize=9)\n",
        "\n",
        "plt.tight_layout()\n",
        "plt.show()"
      ]
    },
    {
      "cell_type": "markdown",
      "id": "83a76217",
      "metadata": {
        "id": "83a76217"
      },
      "source": [
        "## Tercera entrega: Implementacion de mejor modelo con diferenctes hiperparametros"
      ]
    },
    {
      "cell_type": "markdown",
      "id": "0a624907",
      "metadata": {
        "id": "0a624907"
      },
      "source": []
    }
  ],
  "metadata": {
    "kernelspec": {
      "display_name": "Python 3",
      "name": "python3"
    },
    "language_info": {
      "codemirror_mode": {
        "name": "ipython",
        "version": 3
      },
      "file_extension": ".py",
      "mimetype": "text/x-python",
      "name": "python",
      "nbconvert_exporter": "python",
      "pygments_lexer": "ipython3",
      "version": "3.12.11"
    },
    "colab": {
      "provenance": [],
      "gpuType": "T4"
    },
    "accelerator": "GPU"
  },
  "nbformat": 4,
  "nbformat_minor": 5
}