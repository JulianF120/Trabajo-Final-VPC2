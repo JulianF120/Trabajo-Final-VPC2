{
 "cells": [
  {
   "cell_type": "code",
   "execution_count": 9,
   "id": "d01d803b",
   "metadata": {},
   "outputs": [],
   "source": [
    "import kagglehub\n",
    "import os\n",
    "import cv2\n",
    "import matplotlib.pyplot as plt\n",
    "import numpy as np"
   ]
  },
  {
   "cell_type": "code",
   "execution_count": 4,
   "id": "86f99bce",
   "metadata": {},
   "outputs": [],
   "source": [
    "path = kagglehub.dataset_download(\"orvile/x-ray-baggage-anomaly-detection\")"
   ]
  },
  {
   "cell_type": "code",
   "execution_count": null,
   "id": "0044c4cc",
   "metadata": {},
   "outputs": [],
   "source": [
    "train_path_images = os.path.join(path, 'train\\\\images')\n",
    "train_path_labels = os.path.join(path, 'train\\\\labels')\n",
    "\n",
    "test_path_images = os.path.join(path, 'test\\\\images')\n",
    "test_path_labels = os.path.join(path, 'test\\\\labels')\n",
    "\n",
    "valid_path_images = os.path.join(path, 'valid\\\\images')\n",
    "valid_path_labels = os.path.join(path, 'valid\\\\labels')"
   ]
  },
  {
   "cell_type": "code",
   "execution_count": 14,
   "id": "bccc8c6d",
   "metadata": {},
   "outputs": [],
   "source": [
    "images_paths = [train_path_images, train_path_images, valid_path_images]\n",
    "labels_paths = [train_path_labels, test_path_labels, valid_path_labels]"
   ]
  },
  {
   "cell_type": "code",
   "execution_count": 17,
   "id": "f97ead74",
   "metadata": {},
   "outputs": [],
   "source": [
    "#Ver que todos los sizes sean iguales\n",
    "sizes = {}\n",
    "for image_path in images_paths:\n",
    "    for image in os.listdir(image_path):\n",
    "        image = os.path.join(image_path, image)\n",
    "        im = cv2.imread(image)\n",
    "        shape = str(im.shape)\n",
    "        if shape in sizes:\n",
    "            sizes[shape] += 1\n",
    "        else:\n",
    "            sizes[shape] = 1"
   ]
  },
  {
   "cell_type": "code",
   "execution_count": 19,
   "id": "994b2c90",
   "metadata": {},
   "outputs": [
    {
     "name": "stdout",
     "output_type": "stream",
     "text": [
      "{'(416, 416, 3)': 14128}\n"
     ]
    }
   ],
   "source": [
    "print(sizes)"
   ]
  },
  {
   "cell_type": "markdown",
   "id": "586dcba5",
   "metadata": {},
   "source": [
    "Todas las imagenes tienen el mismo tamaño"
   ]
  },
  {
   "cell_type": "code",
   "execution_count": 23,
   "id": "8a091b88",
   "metadata": {},
   "outputs": [],
   "source": [
    "#Explorar si las clases estan balanceadas\n",
    "#Segun la info encontrada en https://universe.roboflow.com/malek-mhnrl/x-ray-baggage-detection las clases pueden ser 0, 1, 2, 3 o 4\n",
    "clases = {}\n",
    "for label_path in labels_paths:\n",
    "    for label in os.listdir(label_path):\n",
    "        label = os.path.join(label_path, label)\n",
    "        with open(label) as text:\n",
    "            line = text.readline()\n",
    "            image_class = line.split(\" \")[0]\n",
    "            if image_class in clases:\n",
    "                clases[image_class] += 1\n",
    "            else:\n",
    "                clases[image_class] = 1\n"
   ]
  },
  {
   "cell_type": "code",
   "execution_count": 24,
   "id": "de97b4b3",
   "metadata": {},
   "outputs": [
    {
     "name": "stdout",
     "output_type": "stream",
     "text": [
      "{'2': 1041, '1': 1975, '0': 1841, '3': 1948, '4': 2025}\n"
     ]
    }
   ],
   "source": [
    "print(clases)"
   ]
  },
  {
   "cell_type": "markdown",
   "id": "09810289",
   "metadata": {},
   "source": [
    "Clase 2 es la más desbalanceada"
   ]
  },
  {
   "cell_type": "code",
   "execution_count": null,
   "id": "2d62259b",
   "metadata": {},
   "outputs": [],
   "source": []
  }
 ],
 "metadata": {
  "kernelspec": {
   "display_name": "VPC",
   "language": "python",
   "name": "python3"
  },
  "language_info": {
   "codemirror_mode": {
    "name": "ipython",
    "version": 3
   },
   "file_extension": ".py",
   "mimetype": "text/x-python",
   "name": "python",
   "nbconvert_exporter": "python",
   "pygments_lexer": "ipython3",
   "version": "3.13.5"
  }
 },
 "nbformat": 4,
 "nbformat_minor": 5
}
